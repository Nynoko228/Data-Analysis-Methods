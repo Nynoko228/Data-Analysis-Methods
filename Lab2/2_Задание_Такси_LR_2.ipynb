{
  "cells": [
    {
      "cell_type": "markdown",
      "source": [
        "Изучаем датасет по поездкам такси в Нью-Йорке. Загружаем его из внешнего источника kaggle"
      ],
      "metadata": {
        "id": "BVND3-ugfN05"
      }
    },
    {
      "cell_type": "code",
      "execution_count": null,
      "metadata": {
        "id": "OUzKTodnXF7W"
      },
      "outputs": [],
      "source": [
        "from google.colab import files\n",
        "uploaded = files.upload()"
      ]
    },
    {
      "cell_type": "markdown",
      "source": [
        "Считываем датасет в датафрейм"
      ],
      "metadata": {
        "id": "oXA_g14Ef4zg"
      }
    },
    {
      "cell_type": "code",
      "execution_count": null,
      "metadata": {
        "id": "R7qCHm2aY0za"
      },
      "outputs": [],
      "source": [
        "import pandas as pd\n",
        "import seaborn as sns\n",
        "from matplotlib import pyplot as plt\n",
        "\n",
        "df = pd.read_csv('train.zip', compression='zip', header=0, sep=',', quotechar='\"')"
      ]
    },
    {
      "cell_type": "markdown",
      "source": [
        "Выведите первые 7 строк датасета"
      ],
      "metadata": {
        "id": "VqZXzFDjgHaj"
      }
    },
    {
      "cell_type": "code",
      "execution_count": null,
      "metadata": {
        "id": "aCGBkx3xY6FN",
        "colab": {
          "base_uri": "https://localhost:8080/",
          "height": 206
        },
        "outputId": "a117bdb1-ae49-4ba1-ee2f-60fc031135ef"
      },
      "outputs": [
        {
          "output_type": "execute_result",
          "data": {
            "text/plain": [
              "               id  vendor_id      pickup_datetime  passenger_count  \\\n",
              "96469   id0190469          2  2016-01-01 00:00:17                5   \n",
              "223872  id1665586          1  2016-01-01 00:00:53                1   \n",
              "713067  id1210365          2  2016-01-01 00:01:01                5   \n",
              "652463  id3888279          1  2016-01-01 00:01:14                1   \n",
              "722901  id0924227          1  2016-01-01 00:01:20                1   \n",
              "\n",
              "        pickup_longitude  pickup_latitude  dropoff_longitude  \\\n",
              "96469         -73.981743        40.719158         -73.938828   \n",
              "223872        -73.985085        40.747166         -73.958038   \n",
              "713067        -73.965279        40.801041         -73.947479   \n",
              "652463        -73.982292        40.751331         -73.991341   \n",
              "722901        -73.970108        40.759800         -73.989357   \n",
              "\n",
              "        dropoff_latitude store_and_fwd_flag  trip_duration  \n",
              "96469          40.829182                  N            849  \n",
              "223872         40.717491                  N           1294  \n",
              "713067         40.815170                  N            408  \n",
              "652463         40.750340                  N            280  \n",
              "722901         40.742989                  N            736  "
            ],
            "text/html": [
              "\n",
              "  <div id=\"df-c7ae927e-0455-4a0e-9787-3fdfe36ecc41\">\n",
              "    <div class=\"colab-df-container\">\n",
              "      <div>\n",
              "<style scoped>\n",
              "    .dataframe tbody tr th:only-of-type {\n",
              "        vertical-align: middle;\n",
              "    }\n",
              "\n",
              "    .dataframe tbody tr th {\n",
              "        vertical-align: top;\n",
              "    }\n",
              "\n",
              "    .dataframe thead th {\n",
              "        text-align: right;\n",
              "    }\n",
              "</style>\n",
              "<table border=\"1\" class=\"dataframe\">\n",
              "  <thead>\n",
              "    <tr style=\"text-align: right;\">\n",
              "      <th></th>\n",
              "      <th>id</th>\n",
              "      <th>vendor_id</th>\n",
              "      <th>pickup_datetime</th>\n",
              "      <th>passenger_count</th>\n",
              "      <th>pickup_longitude</th>\n",
              "      <th>pickup_latitude</th>\n",
              "      <th>dropoff_longitude</th>\n",
              "      <th>dropoff_latitude</th>\n",
              "      <th>store_and_fwd_flag</th>\n",
              "      <th>trip_duration</th>\n",
              "    </tr>\n",
              "  </thead>\n",
              "  <tbody>\n",
              "    <tr>\n",
              "      <th>96469</th>\n",
              "      <td>id0190469</td>\n",
              "      <td>2</td>\n",
              "      <td>2016-01-01 00:00:17</td>\n",
              "      <td>5</td>\n",
              "      <td>-73.981743</td>\n",
              "      <td>40.719158</td>\n",
              "      <td>-73.938828</td>\n",
              "      <td>40.829182</td>\n",
              "      <td>N</td>\n",
              "      <td>849</td>\n",
              "    </tr>\n",
              "    <tr>\n",
              "      <th>223872</th>\n",
              "      <td>id1665586</td>\n",
              "      <td>1</td>\n",
              "      <td>2016-01-01 00:00:53</td>\n",
              "      <td>1</td>\n",
              "      <td>-73.985085</td>\n",
              "      <td>40.747166</td>\n",
              "      <td>-73.958038</td>\n",
              "      <td>40.717491</td>\n",
              "      <td>N</td>\n",
              "      <td>1294</td>\n",
              "    </tr>\n",
              "    <tr>\n",
              "      <th>713067</th>\n",
              "      <td>id1210365</td>\n",
              "      <td>2</td>\n",
              "      <td>2016-01-01 00:01:01</td>\n",
              "      <td>5</td>\n",
              "      <td>-73.965279</td>\n",
              "      <td>40.801041</td>\n",
              "      <td>-73.947479</td>\n",
              "      <td>40.815170</td>\n",
              "      <td>N</td>\n",
              "      <td>408</td>\n",
              "    </tr>\n",
              "    <tr>\n",
              "      <th>652463</th>\n",
              "      <td>id3888279</td>\n",
              "      <td>1</td>\n",
              "      <td>2016-01-01 00:01:14</td>\n",
              "      <td>1</td>\n",
              "      <td>-73.982292</td>\n",
              "      <td>40.751331</td>\n",
              "      <td>-73.991341</td>\n",
              "      <td>40.750340</td>\n",
              "      <td>N</td>\n",
              "      <td>280</td>\n",
              "    </tr>\n",
              "    <tr>\n",
              "      <th>722901</th>\n",
              "      <td>id0924227</td>\n",
              "      <td>1</td>\n",
              "      <td>2016-01-01 00:01:20</td>\n",
              "      <td>1</td>\n",
              "      <td>-73.970108</td>\n",
              "      <td>40.759800</td>\n",
              "      <td>-73.989357</td>\n",
              "      <td>40.742989</td>\n",
              "      <td>N</td>\n",
              "      <td>736</td>\n",
              "    </tr>\n",
              "  </tbody>\n",
              "</table>\n",
              "</div>\n",
              "      <button class=\"colab-df-convert\" onclick=\"convertToInteractive('df-c7ae927e-0455-4a0e-9787-3fdfe36ecc41')\"\n",
              "              title=\"Convert this dataframe to an interactive table.\"\n",
              "              style=\"display:none;\">\n",
              "        \n",
              "  <svg xmlns=\"http://www.w3.org/2000/svg\" height=\"24px\"viewBox=\"0 0 24 24\"\n",
              "       width=\"24px\">\n",
              "    <path d=\"M0 0h24v24H0V0z\" fill=\"none\"/>\n",
              "    <path d=\"M18.56 5.44l.94 2.06.94-2.06 2.06-.94-2.06-.94-.94-2.06-.94 2.06-2.06.94zm-11 1L8.5 8.5l.94-2.06 2.06-.94-2.06-.94L8.5 2.5l-.94 2.06-2.06.94zm10 10l.94 2.06.94-2.06 2.06-.94-2.06-.94-.94-2.06-.94 2.06-2.06.94z\"/><path d=\"M17.41 7.96l-1.37-1.37c-.4-.4-.92-.59-1.43-.59-.52 0-1.04.2-1.43.59L10.3 9.45l-7.72 7.72c-.78.78-.78 2.05 0 2.83L4 21.41c.39.39.9.59 1.41.59.51 0 1.02-.2 1.41-.59l7.78-7.78 2.81-2.81c.8-.78.8-2.07 0-2.86zM5.41 20L4 18.59l7.72-7.72 1.47 1.35L5.41 20z\"/>\n",
              "  </svg>\n",
              "      </button>\n",
              "      \n",
              "  <style>\n",
              "    .colab-df-container {\n",
              "      display:flex;\n",
              "      flex-wrap:wrap;\n",
              "      gap: 12px;\n",
              "    }\n",
              "\n",
              "    .colab-df-convert {\n",
              "      background-color: #E8F0FE;\n",
              "      border: none;\n",
              "      border-radius: 50%;\n",
              "      cursor: pointer;\n",
              "      display: none;\n",
              "      fill: #1967D2;\n",
              "      height: 32px;\n",
              "      padding: 0 0 0 0;\n",
              "      width: 32px;\n",
              "    }\n",
              "\n",
              "    .colab-df-convert:hover {\n",
              "      background-color: #E2EBFA;\n",
              "      box-shadow: 0px 1px 2px rgba(60, 64, 67, 0.3), 0px 1px 3px 1px rgba(60, 64, 67, 0.15);\n",
              "      fill: #174EA6;\n",
              "    }\n",
              "\n",
              "    [theme=dark] .colab-df-convert {\n",
              "      background-color: #3B4455;\n",
              "      fill: #D2E3FC;\n",
              "    }\n",
              "\n",
              "    [theme=dark] .colab-df-convert:hover {\n",
              "      background-color: #434B5C;\n",
              "      box-shadow: 0px 1px 3px 1px rgba(0, 0, 0, 0.15);\n",
              "      filter: drop-shadow(0px 1px 2px rgba(0, 0, 0, 0.3));\n",
              "      fill: #FFFFFF;\n",
              "    }\n",
              "  </style>\n",
              "\n",
              "      <script>\n",
              "        const buttonEl =\n",
              "          document.querySelector('#df-c7ae927e-0455-4a0e-9787-3fdfe36ecc41 button.colab-df-convert');\n",
              "        buttonEl.style.display =\n",
              "          google.colab.kernel.accessAllowed ? 'block' : 'none';\n",
              "\n",
              "        async function convertToInteractive(key) {\n",
              "          const element = document.querySelector('#df-c7ae927e-0455-4a0e-9787-3fdfe36ecc41');\n",
              "          const dataTable =\n",
              "            await google.colab.kernel.invokeFunction('convertToInteractive',\n",
              "                                                     [key], {});\n",
              "          if (!dataTable) return;\n",
              "\n",
              "          const docLinkHtml = 'Like what you see? Visit the ' +\n",
              "            '<a target=\"_blank\" href=https://colab.research.google.com/notebooks/data_table.ipynb>data table notebook</a>'\n",
              "            + ' to learn more about interactive tables.';\n",
              "          element.innerHTML = '';\n",
              "          dataTable['output_type'] = 'display_data';\n",
              "          await google.colab.output.renderOutput(dataTable, element);\n",
              "          const docLink = document.createElement('div');\n",
              "          docLink.innerHTML = docLinkHtml;\n",
              "          element.appendChild(docLink);\n",
              "        }\n",
              "      </script>\n",
              "    </div>\n",
              "  </div>\n",
              "  "
            ]
          },
          "metadata": {},
          "execution_count": 39
        }
      ],
      "source": []
    },
    {
      "cell_type": "markdown",
      "source": [
        "Удалите из датафрейма столбец dropoff_datetime, как избыточную информацию"
      ],
      "metadata": {
        "id": "aw3zdAgrgdma"
      }
    },
    {
      "cell_type": "code",
      "execution_count": null,
      "metadata": {
        "id": "fB8j0Z52Zmdo"
      },
      "outputs": [],
      "source": []
    },
    {
      "cell_type": "markdown",
      "source": [
        "Отсортируйте датафрейм по столбцу pickup_datetime с помощью функции sort_values"
      ],
      "metadata": {
        "id": "d-94vRycg2Ay"
      }
    },
    {
      "cell_type": "code",
      "execution_count": null,
      "metadata": {
        "id": "RucrG_C3aA8U"
      },
      "outputs": [],
      "source": []
    },
    {
      "cell_type": "markdown",
      "source": [
        "Разбейте датасет на обучающую train_df и тестовую часть test_df, используя срезы датафрейма на границе 10**6"
      ],
      "metadata": {
        "id": "TloKWlN8hKxx"
      }
    },
    {
      "cell_type": "code",
      "execution_count": null,
      "metadata": {
        "id": "x6M6yaTbajKc"
      },
      "outputs": [],
      "source": [
        "\n"
      ]
    },
    {
      "cell_type": "markdown",
      "source": [
        "Определите размер тестовой выборки с помощью функции len"
      ],
      "metadata": {
        "id": "o4ssb4qzh3po"
      }
    },
    {
      "cell_type": "code",
      "source": [],
      "metadata": {
        "id": "CzAzt7MP9FZf"
      },
      "execution_count": null,
      "outputs": []
    },
    {
      "cell_type": "markdown",
      "source": [
        "Постройте гистограмму распределения длительности поездки в обучающей выборке. Посмотрите на ее характер, меняя параметр bins"
      ],
      "metadata": {
        "id": "rWMh3V1LiHp9"
      }
    },
    {
      "cell_type": "code",
      "execution_count": null,
      "metadata": {
        "id": "EBiS0UNza5Ls"
      },
      "outputs": [],
      "source": []
    },
    {
      "cell_type": "markdown",
      "source": [
        "Постройте гистограмму распределения длительности поездки в обучающей выборке, используя функцию numpy log1p. Как изменился вид распределения?"
      ],
      "metadata": {
        "id": "52hBWQiHiEPO"
      }
    },
    {
      "cell_type": "code",
      "execution_count": null,
      "metadata": {
        "id": "greNbjaMbBQP"
      },
      "outputs": [],
      "source": []
    },
    {
      "cell_type": "code",
      "execution_count": null,
      "metadata": {
        "id": "3ovofvTObUMn"
      },
      "outputs": [],
      "source": []
    },
    {
      "cell_type": "markdown",
      "source": [
        "Создайте в обучающей и тестовой выборках новые столбцы log_trip_duration как результат применения функции log1p к столбцу trip_duration"
      ],
      "metadata": {
        "id": "DjGkdIyijdQ9"
      }
    },
    {
      "cell_type": "code",
      "execution_count": null,
      "metadata": {
        "id": "fin72sOZbqiq"
      },
      "outputs": [],
      "source": [
        "\n"
      ]
    },
    {
      "cell_type": "markdown",
      "source": [
        "Преобразуем формат времени признака pickup_datetime в тестовой и обучающей выборках с помощью функции pandas to_datetime"
      ],
      "metadata": {
        "id": "pi8-SdzakDYP"
      }
    },
    {
      "cell_type": "code",
      "execution_count": null,
      "metadata": {
        "id": "hDp7EXv2sqYi"
      },
      "outputs": [],
      "source": []
    },
    {
      "cell_type": "markdown",
      "source": [
        "Визуализируем число поездок по дням. Для этого извлечем из столбца pickup_datetime дату с помощью функции apply(lambda x: x.date()) в переменную dates"
      ],
      "metadata": {
        "id": "Ur5poZEYlh8q"
      }
    },
    {
      "cell_type": "code",
      "execution_count": null,
      "metadata": {
        "id": "23OiOWlvtYbh"
      },
      "outputs": [],
      "source": []
    },
    {
      "cell_type": "markdown",
      "source": [
        "Получим график"
      ],
      "metadata": {
        "id": "BDxKD6XdmgyX"
      }
    },
    {
      "cell_type": "code",
      "execution_count": null,
      "metadata": {
        "id": "ZtJ8zGPztcXO",
        "colab": {
          "base_uri": "https://localhost:8080/",
          "height": 383
        },
        "outputId": "8b42f85a-782d-4ba0-d8cf-c73c1a2723b7"
      },
      "outputs": [
        {
          "output_type": "display_data",
          "data": {
            "text/plain": [
              "<Figure size 1800x360 with 1 Axes>"
            ],
            "image/png": "[encoded data removed]"
          },
          "metadata": {
            "needs_background": "light"
          }
        }
      ],
      "source": [
        "plt.figure(figsize=(25, 5))\n",
        "data_count_plot = sns.countplot(x = dates)\n",
        "data_count_plot.set_xticklabels(data_count_plot.get_xticklabels(), rotation=90);"
      ]
    },
    {
      "cell_type": "markdown",
      "source": [
        "Выполните группировку обучающей выборки по значению dates. Выведите график средней длительности поездок по дням недели.\n",
        "Для визуализации используем библиотеку seaborn\n",
        "sns.relplot(data=group_by_date.log_trip_duration.aggregate('mean'), kind='line')"
      ],
      "metadata": {
        "id": "tcPbfXAjmp61"
      }
    },
    {
      "cell_type": "code",
      "execution_count": null,
      "metadata": {
        "id": "l_mNoXu-tz-f"
      },
      "outputs": [],
      "source": [
        "group_by_date ="
      ]
    },
    {
      "cell_type": "code",
      "execution_count": null,
      "metadata": {
        "id": "9NNuE_qtvFMP"
      },
      "outputs": [],
      "source": [
        "sns.relplot(data=group_by_date.log_trip_duration.aggregate('mean'), kind='line')"
      ]
    },
    {
      "cell_type": "markdown",
      "source": [
        "Опишем функцию, подготавливающую данные для обучения. Выполним конкатенацию столбцов дня недели и часа поездки."
      ],
      "metadata": {
        "id": "61tcDpkqqQ8U"
      }
    },
    {
      "cell_type": "code",
      "execution_count": null,
      "metadata": {
        "id": "DZIgxsrrvZlB"
      },
      "outputs": [],
      "source": [
        "def create_features(data_frame):\n",
        "    X = pd.concat(\n",
        "        [\n",
        "         data_frame.pickup_datetime.apply(lambda x: x.timetuple().tm_yday),\n",
        "         data_frame.pickup_datetime.apply(lambda x: x.hour)\n",
        "        ], axis=1, keys=['day', 'hour']\n",
        "    )\n",
        "    return X, data_frame.log_trip_duration"
      ]
    },
    {
      "cell_type": "markdown",
      "source": [
        "Применим функцию create_features для формирования X_train, y_train и X_test, y_test"
      ],
      "metadata": {
        "id": "ABTDuysvr1ZI"
      }
    },
    {
      "cell_type": "code",
      "execution_count": null,
      "metadata": {
        "id": "dbcdOwcwyB_L"
      },
      "outputs": [],
      "source": []
    },
    {
      "cell_type": "markdown",
      "source": [
        "Посмотрим на получившуюся выборку X_train"
      ],
      "metadata": {
        "id": "5H4ntuOFsQn1"
      }
    },
    {
      "cell_type": "code",
      "execution_count": null,
      "metadata": {
        "id": "7F1bJPEjyMjn"
      },
      "outputs": [],
      "source": []
    },
    {
      "cell_type": "markdown",
      "source": [
        "Преобразуем признак hour в категориальный признак"
      ],
      "metadata": {
        "id": "sBR9vLBvs7mC"
      }
    },
    {
      "cell_type": "code",
      "execution_count": null,
      "metadata": {
        "id": "WZVih-4DyRyr"
      },
      "outputs": [],
      "source": [
        "from sklearn.preprocessing import OneHotEncoder\n",
        "from sklearn.compose import ColumnTransformer"
      ]
    },
    {
      "cell_type": "code",
      "execution_count": null,
      "metadata": {
        "id": "qA7KkgBYy550"
      },
      "outputs": [],
      "source": [
        "ohe = ColumnTransformer([(\"One Hot\", OneHotEncoder(sparse=False), [1])], remainder='passthrough')"
      ]
    },
    {
      "cell_type": "markdown",
      "source": [
        "Применяем категориальный признак для изменения обучающей выборки"
      ],
      "metadata": {
        "id": "YWNPyWrXtVN4"
      }
    },
    {
      "cell_type": "code",
      "execution_count": null,
      "metadata": {
        "id": "Rf9ZOgNazWeR"
      },
      "outputs": [],
      "source": [
        "X_train = ohe.fit_transform(X_train)"
      ]
    },
    {
      "cell_type": "markdown",
      "source": [
        "Посмотрите новое представление X_train и его размер после применения one-hot кодирования"
      ],
      "metadata": {
        "id": "yAeMY4X-tpL_"
      }
    },
    {
      "cell_type": "code",
      "execution_count": null,
      "metadata": {
        "id": "yxf5ShbgzcYy",
        "colab": {
          "base_uri": "https://localhost:8080/"
        },
        "outputId": "04f0eadd-0be8-46a3-c516-489be73994a5"
      },
      "outputs": [
        {
          "output_type": "execute_result",
          "data": {
            "text/plain": [
              "(1000000, 25)"
            ]
          },
          "metadata": {},
          "execution_count": 25
        }
      ],
      "source": [
        "X_train.shape"
      ]
    },
    {
      "cell_type": "code",
      "execution_count": null,
      "metadata": {
        "id": "KYwwWiS9zdPy"
      },
      "outputs": [],
      "source": [
        "X_test = ohe.fit_transform(X_test)"
      ]
    },
    {
      "cell_type": "markdown",
      "source": [
        "Выполните обучение модели линейной регрессии. Выполните предсказание модели и оцените ошибку по выбранной метрике."
      ],
      "metadata": {
        "id": "BZN-s9Y1pjTJ"
      }
    },
    {
      "cell_type": "code",
      "execution_count": null,
      "metadata": {
        "id": "_hLP9I8g0Ysj"
      },
      "outputs": [],
      "source": []
    },
    {
      "cell_type": "markdown",
      "source": [
        "Выполните обучение модели k ближайших соседей. Выполните предсказание модели и оцените ошибку по выбранной метрике."
      ],
      "metadata": {
        "id": "yy4wP1eCuptg"
      }
    },
    {
      "cell_type": "code",
      "source": [],
      "metadata": {
        "id": "Kb1Qx10wu0zF"
      },
      "execution_count": null,
      "outputs": []
    },
    {
      "cell_type": "markdown",
      "source": [
        "Сравните качество обучения двух моделей"
      ],
      "metadata": {
        "id": "VutqY_sTu_dF"
      }
    }
  ],
  "metadata": {
    "colab": {
      "provenance": []
    },
    "kernelspec": {
      "display_name": "Python 3",
      "name": "python3"
    }
  },
  "nbformat": 4,
  "nbformat_minor": 0
}