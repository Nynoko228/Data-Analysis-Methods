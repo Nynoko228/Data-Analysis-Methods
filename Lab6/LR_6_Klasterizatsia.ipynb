{
  "nbformat": 4,
  "nbformat_minor": 0,
  "metadata": {
    "colab": {
      "provenance": []
    },
    "kernelspec": {
      "name": "python3",
      "display_name": "Python 3"
    }
  },
  "cells": [
    {
      "cell_type": "markdown",
      "metadata": {
        "id": "rEBJMPpFJbrC"
      },
      "source": [
        "Скачайте двнные классификации листьев растений по ссылке.\n",
        "https://archive.ics.uci.edu/ml/machine-learning-databases/00241/"
      ]
    },
    {
      "cell_type": "markdown",
      "metadata": {
        "id": "bdxYP4mnLLnc"
      },
      "source": [
        "Загрузим файл `data_Mar_64.txt`."
      ]
    },
    {
      "cell_type": "code",
      "metadata": {
        "id": "doQ_W-xxJXA-",
        "outputId": "93f1da4a-9d2f-41ee-ba9b-de44e4bba8c9",
        "colab": {
          "base_uri": "https://localhost:8080/",
          "height": 73
        }
      },
      "source": [
        "import pandas as pd\n",
        "import numpy as np\n",
        "from google.colab import files\n",
        "uploder = files.upload()"
      ],
      "execution_count": 1,
      "outputs": [
        {
          "output_type": "display_data",
          "data": {
            "text/plain": [
              "<IPython.core.display.HTML object>"
            ],
            "text/html": [
              "\n",
              "     <input type=\"file\" id=\"files-45c14ed2-5699-4907-96bb-fa0307766fed\" name=\"files[]\" multiple disabled\n",
              "        style=\"border:none\" />\n",
              "     <output id=\"result-45c14ed2-5699-4907-96bb-fa0307766fed\">\n",
              "      Upload widget is only available when the cell has been executed in the\n",
              "      current browser session. Please rerun this cell to enable.\n",
              "      </output>\n",
              "      <script>// Copyright 2017 Google LLC\n",
              "//\n",
              "// Licensed under the Apache License, Version 2.0 (the \"License\");\n",
              "// you may not use this file except in compliance with the License.\n",
              "// You may obtain a copy of the License at\n",
              "//\n",
              "//      http://www.apache.org/licenses/LICENSE-2.0\n",
              "//\n",
              "// Unless required by applicable law or agreed to in writing, software\n",
              "// distributed under the License is distributed on an \"AS IS\" BASIS,\n",
              "// WITHOUT WARRANTIES OR CONDITIONS OF ANY KIND, either express or implied.\n",
              "// See the License for the specific language governing permissions and\n",
              "// limitations under the License.\n",
              "\n",
              "/**\n",
              " * @fileoverview Helpers for google.colab Python module.\n",
              " */\n",
              "(function(scope) {\n",
              "function span(text, styleAttributes = {}) {\n",
              "  const element = document.createElement('span');\n",
              "  element.textContent = text;\n",
              "  for (const key of Object.keys(styleAttributes)) {\n",
              "    element.style[key] = styleAttributes[key];\n",
              "  }\n",
              "  return element;\n",
              "}\n",
              "\n",
              "// Max number of bytes which will be uploaded at a time.\n",
              "const MAX_PAYLOAD_SIZE = 100 * 1024;\n",
              "\n",
              "function _uploadFiles(inputId, outputId) {\n",
              "  const steps = uploadFilesStep(inputId, outputId);\n",
              "  const outputElement = document.getElementById(outputId);\n",
              "  // Cache steps on the outputElement to make it available for the next call\n",
              "  // to uploadFilesContinue from Python.\n",
              "  outputElement.steps = steps;\n",
              "\n",
              "  return _uploadFilesContinue(outputId);\n",
              "}\n",
              "\n",
              "// This is roughly an async generator (not supported in the browser yet),\n",
              "// where there are multiple asynchronous steps and the Python side is going\n",
              "// to poll for completion of each step.\n",
              "// This uses a Promise to block the python side on completion of each step,\n",
              "// then passes the result of the previous step as the input to the next step.\n",
              "function _uploadFilesContinue(outputId) {\n",
              "  const outputElement = document.getElementById(outputId);\n",
              "  const steps = outputElement.steps;\n",
              "\n",
              "  const next = steps.next(outputElement.lastPromiseValue);\n",
              "  return Promise.resolve(next.value.promise).then((value) => {\n",
              "    // Cache the last promise value to make it available to the next\n",
              "    // step of the generator.\n",
              "    outputElement.lastPromiseValue = value;\n",
              "    return next.value.response;\n",
              "  });\n",
              "}\n",
              "\n",
              "/**\n",
              " * Generator function which is called between each async step of the upload\n",
              " * process.\n",
              " * @param {string} inputId Element ID of the input file picker element.\n",
              " * @param {string} outputId Element ID of the output display.\n",
              " * @return {!Iterable<!Object>} Iterable of next steps.\n",
              " */\n",
              "function* uploadFilesStep(inputId, outputId) {\n",
              "  const inputElement = document.getElementById(inputId);\n",
              "  inputElement.disabled = false;\n",
              "\n",
              "  const outputElement = document.getElementById(outputId);\n",
              "  outputElement.innerHTML = '';\n",
              "\n",
              "  const pickedPromise = new Promise((resolve) => {\n",
              "    inputElement.addEventListener('change', (e) => {\n",
              "      resolve(e.target.files);\n",
              "    });\n",
              "  });\n",
              "\n",
              "  const cancel = document.createElement('button');\n",
              "  inputElement.parentElement.appendChild(cancel);\n",
              "  cancel.textContent = 'Cancel upload';\n",
              "  const cancelPromise = new Promise((resolve) => {\n",
              "    cancel.onclick = () => {\n",
              "      resolve(null);\n",
              "    };\n",
              "  });\n",
              "\n",
              "  // Wait for the user to pick the files.\n",
              "  const files = yield {\n",
              "    promise: Promise.race([pickedPromise, cancelPromise]),\n",
              "    response: {\n",
              "      action: 'starting',\n",
              "    }\n",
              "  };\n",
              "\n",
              "  cancel.remove();\n",
              "\n",
              "  // Disable the input element since further picks are not allowed.\n",
              "  inputElement.disabled = true;\n",
              "\n",
              "  if (!files) {\n",
              "    return {\n",
              "      response: {\n",
              "        action: 'complete',\n",
              "      }\n",
              "    };\n",
              "  }\n",
              "\n",
              "  for (const file of files) {\n",
              "    const li = document.createElement('li');\n",
              "    li.append(span(file.name, {fontWeight: 'bold'}));\n",
              "    li.append(span(\n",
              "        `(${file.type || 'n/a'}) - ${file.size} bytes, ` +\n",
              "        `last modified: ${\n",
              "            file.lastModifiedDate ? file.lastModifiedDate.toLocaleDateString() :\n",
              "                                    'n/a'} - `));\n",
              "    const percent = span('0% done');\n",
              "    li.appendChild(percent);\n",
              "\n",
              "    outputElement.appendChild(li);\n",
              "\n",
              "    const fileDataPromise = new Promise((resolve) => {\n",
              "      const reader = new FileReader();\n",
              "      reader.onload = (e) => {\n",
              "        resolve(e.target.result);\n",
              "      };\n",
              "      reader.readAsArrayBuffer(file);\n",
              "    });\n",
              "    // Wait for the data to be ready.\n",
              "    let fileData = yield {\n",
              "      promise: fileDataPromise,\n",
              "      response: {\n",
              "        action: 'continue',\n",
              "      }\n",
              "    };\n",
              "\n",
              "    // Use a chunked sending to avoid message size limits. See b/62115660.\n",
              "    let position = 0;\n",
              "    do {\n",
              "      const length = Math.min(fileData.byteLength - position, MAX_PAYLOAD_SIZE);\n",
              "      const chunk = new Uint8Array(fileData, position, length);\n",
              "      position += length;\n",
              "\n",
              "      const base64 = btoa(String.fromCharCode.apply(null, chunk));\n",
              "      yield {\n",
              "        response: {\n",
              "          action: 'append',\n",
              "          file: file.name,\n",
              "          data: base64,\n",
              "        },\n",
              "      };\n",
              "\n",
              "      let percentDone = fileData.byteLength === 0 ?\n",
              "          100 :\n",
              "          Math.round((position / fileData.byteLength) * 100);\n",
              "      percent.textContent = `${percentDone}% done`;\n",
              "\n",
              "    } while (position < fileData.byteLength);\n",
              "  }\n",
              "\n",
              "  // All done.\n",
              "  yield {\n",
              "    response: {\n",
              "      action: 'complete',\n",
              "    }\n",
              "  };\n",
              "}\n",
              "\n",
              "scope.google = scope.google || {};\n",
              "scope.google.colab = scope.google.colab || {};\n",
              "scope.google.colab._files = {\n",
              "  _uploadFiles,\n",
              "  _uploadFilesContinue,\n",
              "};\n",
              "})(self);\n",
              "</script> "
            ]
          },
          "metadata": {}
        },
        {
          "output_type": "stream",
          "name": "stdout",
          "text": [
            "Saving data_Mar_64.txt to data_Mar_64.txt\n"
          ]
        }
      ]
    },
    {
      "cell_type": "markdown",
      "source": [
        "Загрузите датасет с помощью функции pandas read_csv()"
      ],
      "metadata": {
        "id": "GDv8LUVTENkg"
      }
    },
    {
      "cell_type": "code",
      "metadata": {
        "id": "LqIPU1u3LTvw"
      },
      "source": [
        "data ="
      ],
      "execution_count": 2,
      "outputs": []
    },
    {
      "cell_type": "markdown",
      "metadata": {
        "id": "XbfwGI1DLde-"
      },
      "source": [
        "Создайте обучающую выборку. Ответы находятся в первом столбце."
      ]
    },
    {
      "cell_type": "code",
      "metadata": {
        "id": "9odhGSeDLZ7Z"
      },
      "source": [
        "X, y_name ="
      ],
      "execution_count": null,
      "outputs": []
    },
    {
      "cell_type": "markdown",
      "metadata": {
        "id": "tQkOp6aaLjkM"
      },
      "source": [
        "Целевая переменная принимает текстовое значение. С помощью `LabelEncoder` из `sklearn` закодируй тектовую переменную `y_name` и сохраните полученные значения в переменную `y`."
      ]
    },
    {
      "cell_type": "code",
      "metadata": {
        "id": "d3lpnP_cLf7R"
      },
      "source": [
        "## your code here"
      ],
      "execution_count": null,
      "outputs": []
    },
    {
      "cell_type": "markdown",
      "metadata": {
        "id": "_VUAb6X5L22Y"
      },
      "source": [
        "С помощью метода главных компонент снизьте размерность признакового пространства до двух. Зафиксируйте `random_state=0`"
      ]
    },
    {
      "cell_type": "code",
      "metadata": {
        "id": "-swp11CwL4m9"
      },
      "source": [
        "## your code here"
      ],
      "execution_count": null,
      "outputs": []
    },
    {
      "cell_type": "markdown",
      "metadata": {
        "id": "mxB7QDkPL9TK"
      },
      "source": [
        "Выберите объекты, которые соответствуют значениям от 0 до 14 целевой переменной `y`. Изобразите выбранные объекты в двумерном пространстве признаков с помощью метода `scatter` из `matplotlib.pyplot`. Чтобы разным цветом отобразить объекты разных классов, в метод `scatter` передайте `c = y[y<15]`."
      ]
    },
    {
      "cell_type": "code",
      "metadata": {
        "id": "bG3APeNYMaKd"
      },
      "source": [
        "## your code here"
      ],
      "execution_count": null,
      "outputs": []
    },
    {
      "cell_type": "markdown",
      "metadata": {
        "id": "r45lDZ-iM9up"
      },
      "source": [
        "Проделайте тоже самое для метода TSNE."
      ]
    },
    {
      "cell_type": "code",
      "metadata": {
        "id": "l_rK6LA6M_qR"
      },
      "source": [
        "## your code here"
      ],
      "execution_count": null,
      "outputs": []
    },
    {
      "cell_type": "markdown",
      "source": [
        "Расчетные задания"
      ],
      "metadata": {
        "id": "p0mpwpQnFcUE"
      }
    },
    {
      "cell_type": "markdown",
      "metadata": {
        "id": "g0_Af5sHNUlO"
      },
      "source": [
        "1. Укажите координаты объекта с индексом 0 (`X[0]`) после применения метода TSNE. Округлите числа до сотых."
      ]
    },
    {
      "cell_type": "code",
      "metadata": {
        "id": "I9M5WNlKNjX4"
      },
      "source": [
        "## your code here"
      ],
      "execution_count": null,
      "outputs": []
    },
    {
      "cell_type": "markdown",
      "metadata": {
        "id": "y5A04DVNNnMj"
      },
      "source": [
        "2. Укажите координаты объекта с индексом 0 (X[0]) после применения метода PCA. Округлите числа до сотых."
      ]
    },
    {
      "cell_type": "code",
      "metadata": {
        "id": "VwMXzSezNq4E"
      },
      "source": [
        "## your code here"
      ],
      "execution_count": null,
      "outputs": []
    },
    {
      "cell_type": "markdown",
      "metadata": {
        "id": "OTsEDhIoNt_0"
      },
      "source": [
        "3. Какие выводы можно сделать из полученных изображений?\n",
        "- С помощью метода главных компонет удалось визуализировать объекты на плоскоти и объекты разных класов визуально разделимы\n",
        "\n",
        "- С помощью метода TSNE удалось визуализировать объекты на плоскоти и объекты разных класов визуально разделимы\n",
        "\n",
        "- С помощью методов TSNE и PCA удалось визуализировать объекты на плоскости и объекты разных класов визуально разделимы\n",
        "\n",
        "- С помощью методов TSNE и PCA удалось визуализировать объекты на плоскости и объекты разных класов визуально не разделимы\n"
      ]
    },
    {
      "cell_type": "markdown",
      "metadata": {
        "id": "5bwVle82N2q5"
      },
      "source": [
        "## K_means"
      ]
    },
    {
      "cell_type": "markdown",
      "metadata": {
        "id": "BOKjfTuIN4DT"
      },
      "source": [
        "Реализуйте класс MyKMeans.\n",
        "\n",
        "Класс должен соответствовать шаблону, который приведен ниже\n",
        "\n",
        "В конструктор класса передаются:\n",
        "- n_clusters - число кластеров, на которое будут разбиты данные\n",
        "\n",
        "- n_iters - максимальное число итераций, может быть сделано в данном алгоритме\n",
        "\n",
        "В методе `fit`:\n",
        "\n",
        "- self.centers - центры кластеров, которые пересчитываются на каждой итерации. Изначально выбираются случайным образом с фиксированным seed.\n",
        "\n",
        "далее в цикле по числу итераций необходимо реализовать:\n",
        "-  вычисление ближайшего центра кластера для каждого объекта\n",
        "- пересчет центра каждого кластера( среднее каждой из координат всех объектов, отнесенных к этому кластеру)\n",
        "посчитанные новые центры кластеров положите в переменную `new_centers`\n",
        "\n",
        "В методе `predict`:\n",
        "\n",
        "вычисляются ближайшие центры кластеров для объектов `X`\n",
        "\n",
        "\n"
      ]
    },
    {
      "cell_type": "code",
      "metadata": {
        "id": "CjdGMH6wNuaM"
      },
      "source": [
        "from sklearn.metrics import pairwise_distances_argmin\n",
        "class MyKMeans():\n",
        "  def __init__(self, n_clusters=3, n_iters = 100):\n",
        "    self.n_clusters = n_clusters\n",
        "    self.n_iters = n_iters\n",
        "\n",
        "  def fit(self, X):\n",
        "    np.random.seed(0)\n",
        "    self.centers = np.random.uniform(low=X.min(axis = 0),\n",
        "                                high=X.max(axis = 0),\n",
        "                                size=(self.n_clusters, X.shape[1]))\n",
        "\n",
        "    for it in range(self.n_iters):\n",
        "\n",
        "      ## your code here\n",
        "\n",
        "      if np.all(self.centers == new_centers):\n",
        "          break\n",
        "\n",
        "      self.centers = new_centers\n",
        "\n",
        "\n",
        "  def predict(self, X):\n",
        "    labels = pairwise_distances_argmin(X, self.centers)\n",
        "    return labels"
      ],
      "execution_count": null,
      "outputs": []
    },
    {
      "cell_type": "markdown",
      "metadata": {
        "id": "-CHFE6_jS2z9"
      },
      "source": [
        "Сгенерируем данные для кластеризации"
      ]
    },
    {
      "cell_type": "code",
      "metadata": {
        "id": "fZB9RQ1vS1-n"
      },
      "source": [
        "from sklearn import datasets\n",
        "n_samples = 1000\n",
        "\n",
        "noisy_blobs = datasets.make_blobs(n_samples=n_samples,\n",
        "                             cluster_std=[1.0, 3.0, 0.5],\n",
        "                             random_state=0)"
      ],
      "execution_count": null,
      "outputs": []
    },
    {
      "cell_type": "code",
      "metadata": {
        "id": "wQN-2l2eS8Qq"
      },
      "source": [
        "X, y = noisy_blobs"
      ],
      "execution_count": null,
      "outputs": []
    },
    {
      "cell_type": "markdown",
      "metadata": {
        "id": "AUi15fgNTBmu"
      },
      "source": [
        "4. Кластеризуйте объекты noisy_blobs с помощью `MyKMeans`, используйте гиперпараметры `n_clusters=3`, `n_iters=100`. Укажите ответ для объекта с индексом 1."
      ]
    },
    {
      "cell_type": "code",
      "metadata": {
        "id": "VJlQezHTS83L"
      },
      "source": [
        "## your code here"
      ],
      "execution_count": null,
      "outputs": []
    },
    {
      "cell_type": "markdown",
      "metadata": {
        "id": "joULp7G4TM6X"
      },
      "source": [
        "5. Кластеризуйте объекты noisy_blobs, используйте гиперпараметры n_clusters=3, n_iters = 5. Укажите ответ для объекта с индексом 1."
      ]
    },
    {
      "cell_type": "code",
      "metadata": {
        "id": "7jRbT4iWTPo_"
      },
      "source": [
        "## your code here"
      ],
      "execution_count": null,
      "outputs": []
    },
    {
      "cell_type": "markdown",
      "metadata": {
        "id": "p7AXLyE7TStG"
      },
      "source": [
        "6. Вычислите у какого числа объектов изменилась метка предсказываемого кластера при изменении гиперпараметра n_iters с 5 до 100"
      ]
    },
    {
      "cell_type": "code",
      "metadata": {
        "id": "nhAkY7U3Tbv4"
      },
      "source": [
        "## your code here"
      ],
      "execution_count": null,
      "outputs": []
    },
    {
      "cell_type": "markdown",
      "metadata": {
        "id": "X2m3cpRsTb8f"
      },
      "source": [
        "7. Определите сколько за сколько итераций сошелся алгоритм на объектах объекты noisy_blobs?"
      ]
    },
    {
      "cell_type": "code",
      "metadata": {
        "id": "2pfPsKRxTc4r"
      },
      "source": [
        "## your code here"
      ],
      "execution_count": null,
      "outputs": []
    },
    {
      "cell_type": "markdown",
      "metadata": {
        "id": "rl2LmchQTh6M"
      },
      "source": [
        "## DBSCAN"
      ]
    },
    {
      "cell_type": "markdown",
      "metadata": {
        "id": "N-XaywRJToyT"
      },
      "source": [
        "8. Кластеризуйте объекты noisy_blobs с помощью DBSCAN. Используйте реализацию DBSCAN из sklearn. Зафиксируйте гиперпараметр eps=0.5. Укажите ответ для объекта с индексом 1."
      ]
    },
    {
      "cell_type": "code",
      "metadata": {
        "id": "mSvhyVXZTjR5"
      },
      "source": [
        "## your code here"
      ],
      "execution_count": null,
      "outputs": []
    },
    {
      "cell_type": "markdown",
      "metadata": {
        "id": "N8tEMGZ5T4xY"
      },
      "source": [
        "9. Укажите полученное число кластеров?"
      ]
    },
    {
      "cell_type": "code",
      "metadata": {
        "id": "gWI0bFZWT6qR"
      },
      "source": [
        "## your code here"
      ],
      "execution_count": null,
      "outputs": []
    },
    {
      "cell_type": "markdown",
      "metadata": {
        "id": "XgF0L6EBT9no"
      },
      "source": [
        "10. Сколько объектов было отнечено к выбросам (имеют метку -1)?"
      ]
    },
    {
      "cell_type": "code",
      "metadata": {
        "id": "qTRp17L8T-Lh"
      },
      "source": [
        "## your code here"
      ],
      "execution_count": null,
      "outputs": []
    }
  ]
}