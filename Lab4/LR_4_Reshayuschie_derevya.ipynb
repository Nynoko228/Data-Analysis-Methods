{
  "nbformat": 4,
  "nbformat_minor": 0,
  "metadata": {
    "kernelspec": {
      "display_name": "Python 3",
      "language": "python",
      "name": "python3"
    },
    "language_info": {
      "codemirror_mode": {
        "name": "ipython",
        "version": 3
      },
      "file_extension": ".py",
      "mimetype": "text/x-python",
      "name": "python",
      "nbconvert_exporter": "python",
      "pygments_lexer": "ipython3",
      "version": "3.6.3"
    },
    "colab": {
      "provenance": []
    }
  },
  "cells": [
    {
      "cell_type": "markdown",
      "metadata": {
        "id": "2p_gIGtkn6xc"
      },
      "source": [
        "# Решающие деревья"
      ]
    },
    {
      "cell_type": "markdown",
      "source": [
        "# 1. Практика"
      ],
      "metadata": {
        "id": "qXJL4CxRm4CN"
      }
    },
    {
      "cell_type": "markdown",
      "metadata": {
        "id": "bm-fK1NNn6xh"
      },
      "source": [
        "### 1.1. Сравнение линейной модели и решающего дерева\n",
        "Какие области применимости линейных моделей и решающих деревьев?\n",
        "\n",
        "- Когда данные хорошо линейно разделимы, то лучше линейная модель\n",
        "\n",
        "- Когда данные плохо линейно разделимы (много сложных нелинейных зависимостей в данных), то лучше модель, основанная на решающих деревьях"
      ]
    },
    {
      "cell_type": "code",
      "metadata": {
        "id": "rL_WGjBln6xh"
      },
      "source": [
        "import matplotlib.pyplot as plt\n",
        "import numpy as np\n",
        "\n",
        "%matplotlib inline"
      ],
      "execution_count": null,
      "outputs": []
    },
    {
      "cell_type": "code",
      "metadata": {
        "id": "N4m5UZ7Qn6xk"
      },
      "source": [
        "plt.rcParams['figure.figsize'] = (11, 6.5)"
      ],
      "execution_count": null,
      "outputs": []
    },
    {
      "cell_type": "code",
      "metadata": {
        "id": "sD8HeNEgn6xn"
      },
      "source": [
        "np.random.seed(13)\n",
        "n = 500\n",
        "X = np.zeros(shape=(n, 2))\n",
        "X[:, 0] = np.linspace(-5, 5, 500)\n",
        "X[:, 1] = X[:, 0] + 0.5 * np.random.normal(size=n)\n",
        "y = (X[:, 1] > X[:, 0]).astype(int)\n",
        "plt.scatter(X[:, 0], X[:, 1], s=100, c=y, cmap='winter')\n",
        "plt.show()"
      ],
      "execution_count": null,
      "outputs": []
    },
    {
      "cell_type": "code",
      "metadata": {
        "id": "d_tuMxIin6xp"
      },
      "source": [
        "from sklearn.model_selection import train_test_split\n",
        "X_train, X_test, y_train, y_test = train_test_split(X, y, test_size=0.25, random_state=13)"
      ],
      "execution_count": null,
      "outputs": []
    },
    {
      "cell_type": "code",
      "metadata": {
        "id": "J6iZfU-vn6xs"
      },
      "source": [
        "from sklearn.linear_model import LogisticRegression\n",
        "lr = LogisticRegression(random_state=13)\n",
        "lr.fit(X_train, y_train)\n",
        "y_pred_lr = lr.predict(X_test)"
      ],
      "execution_count": null,
      "outputs": []
    },
    {
      "cell_type": "code",
      "metadata": {
        "id": "J-cMtWocn6xv"
      },
      "source": [
        "from sklearn.metrics import accuracy_score\n",
        "accuracy_score(y_pred_lr, y_test)"
      ],
      "execution_count": null,
      "outputs": []
    },
    {
      "cell_type": "code",
      "metadata": {
        "id": "TqkBSH-mn6xy"
      },
      "source": [
        "!pip install mlxtend"
      ],
      "execution_count": null,
      "outputs": []
    },
    {
      "cell_type": "code",
      "metadata": {
        "id": "rFadRElkn6x0"
      },
      "source": [
        "from mlxtend.plotting import plot_decision_regions\n",
        "plot_decision_regions(X_test, y_test, lr)\n",
        "\n",
        "plt.show()"
      ],
      "execution_count": null,
      "outputs": []
    },
    {
      "cell_type": "code",
      "metadata": {
        "id": "ZQS5npyrn6x2"
      },
      "source": [
        "from sklearn.tree import DecisionTreeClassifier\n",
        "dt = DecisionTreeClassifier(random_state=13)\n",
        "dt.fit(X_train, y_train)\n",
        "y_pred_dt = dt.predict(X_test)"
      ],
      "execution_count": null,
      "outputs": []
    },
    {
      "cell_type": "code",
      "metadata": {
        "id": "27dpuKQ4n6x5"
      },
      "source": [
        "accuracy_score(y_pred_dt, y_test)"
      ],
      "execution_count": null,
      "outputs": []
    },
    {
      "cell_type": "code",
      "metadata": {
        "id": "g9M5kTa4n6x7"
      },
      "source": [
        "plot_decision_regions(X_test, y_test, dt)\n",
        "plt.show()"
      ],
      "execution_count": null,
      "outputs": []
    },
    {
      "cell_type": "code",
      "metadata": {
        "id": "3vq4TenGn6x9"
      },
      "source": [
        "np.random.seed(13)\n",
        "X = np.random.randn(500, 2)\n",
        "y = np.logical_xor(X[:, 0] > 0, X[:, 1] > 0).astype(int)\n",
        "plt.scatter(X[:, 0], X[:, 1], s=100, c=y, cmap='winter')\n",
        "plt.show()"
      ],
      "execution_count": null,
      "outputs": []
    },
    {
      "cell_type": "code",
      "metadata": {
        "id": "tBWUfJ-mn6x_"
      },
      "source": [
        "X_train, X_test, y_train, y_test = train_test_split(X, y, test_size=0.25, random_state=13)"
      ],
      "execution_count": null,
      "outputs": []
    },
    {
      "cell_type": "code",
      "metadata": {
        "id": "f1oI6rqjn6yB"
      },
      "source": [
        "lr = LogisticRegression(random_state=13)\n",
        "lr.fit(X_train, y_train)\n",
        "y_pred_lr = lr.predict(X_test)\n",
        "accuracy_score(y_pred_lr, y_test)"
      ],
      "execution_count": null,
      "outputs": []
    },
    {
      "cell_type": "code",
      "metadata": {
        "id": "cp5048Nnn6yE"
      },
      "source": [
        "plot_decision_regions(X_test, y_test, lr)\n",
        "plt.show()"
      ],
      "execution_count": null,
      "outputs": []
    },
    {
      "cell_type": "code",
      "metadata": {
        "id": "__b6eYvWn6yG"
      },
      "source": [
        "dt = DecisionTreeClassifier(random_state=13)\n",
        "dt.fit(X_train, y_train)\n",
        "y_pred_dt = dt.predict(X_test)\n",
        "accuracy_score(y_pred_dt, y_test)"
      ],
      "execution_count": null,
      "outputs": []
    },
    {
      "cell_type": "code",
      "metadata": {
        "id": "_gFwfqcyn6yI"
      },
      "source": [
        "plot_decision_regions(X_test, y_test, dt)\n",
        "plt.show()"
      ],
      "execution_count": null,
      "outputs": []
    },
    {
      "cell_type": "markdown",
      "metadata": {
        "id": "hcCcyvQAn6yK"
      },
      "source": [
        "### 1.2. Переобучение модели"
      ]
    },
    {
      "cell_type": "code",
      "metadata": {
        "id": "BgIPmShSn6yL"
      },
      "source": [
        "np.random.seed(13)\n",
        "n = 100\n",
        "X = np.random.normal(size=(n, 2))\n",
        "X[:50, :] += 0.25\n",
        "X[50:, :] -= 0.25\n",
        "y = np.array([1] * 50 + [0] * 50)\n",
        "plt.scatter(X[:, 0], X[:, 1], s=100, c=y, cmap='winter')\n",
        "plt.show()"
      ],
      "execution_count": null,
      "outputs": []
    },
    {
      "cell_type": "markdown",
      "metadata": {
        "id": "sKg_otSSn6yP"
      },
      "source": [
        "Как влияют разные значения гиперпараметров решающего дерева на его структуру?\n",
        "\n",
        "- `max_depth`: максимальная глубина дерева\n",
        "- `min_samples_leaf`: минимальное число объектов в вершине дерева, необходимое для того, чтобы она стала листовой"
      ]
    },
    {
      "cell_type": "code",
      "metadata": {
        "id": "40dsDAa0n6yQ"
      },
      "source": [
        "fig, ax = plt.subplots(nrows=3, ncols=3, figsize=(15, 12))\n",
        "\n",
        "for i, max_depth in enumerate([3, 5, None]):\n",
        "    for j, min_samples_leaf in enumerate([15, 5, 1]):\n",
        "        dt = DecisionTreeClassifier(max_depth=max_depth, min_samples_leaf=min_samples_leaf, random_state=13)\n",
        "        dt.fit(X, y)\n",
        "        ax[i][j].set_title('max_depth = {} | min_samples_leaf = {}'.format(max_depth, min_samples_leaf))\n",
        "        ax[i][j].axis('off')\n",
        "        plot_decision_regions(X, y, dt, ax=ax[i][j])\n",
        "plt.show()"
      ],
      "execution_count": null,
      "outputs": []
    },
    {
      "cell_type": "markdown",
      "metadata": {
        "id": "kCP6tmKhn6yS"
      },
      "source": [
        "На любой выборке (исключая те, где есть объекты с одинаковыми значениями признаков, но разными ответами) можно получить нулевую ошибку - с помощью максимально переобученного дерева:"
      ]
    },
    {
      "cell_type": "code",
      "metadata": {
        "id": "Pq6SsxV0n6yT"
      },
      "source": [
        "dt = DecisionTreeClassifier(max_depth=None, min_samples_leaf=1, random_state=13)\n",
        "dt.fit(X, y)\n",
        "plot_decision_regions(X, y, dt)\n",
        "plt.show()"
      ],
      "execution_count": null,
      "outputs": []
    },
    {
      "cell_type": "code",
      "metadata": {
        "id": "ACNfP5w3n6yV",
        "colab": {
          "base_uri": "https://localhost:8080/"
        },
        "outputId": "2fa546ad-7e00-44f1-d38a-3a088b2ea1cd"
      },
      "source": [
        "accuracy_score(y, dt.predict(X))"
      ],
      "execution_count": null,
      "outputs": [
        {
          "output_type": "execute_result",
          "data": {
            "text/plain": [
              "1.0"
            ]
          },
          "metadata": {},
          "execution_count": 20
        }
      ]
    },
    {
      "cell_type": "markdown",
      "metadata": {
        "id": "KwuCDfONn6yW"
      },
      "source": [
        "### 1.3. Неустойчивость модели"
      ]
    },
    {
      "cell_type": "markdown",
      "metadata": {
        "id": "6UQNA6DAn6yX"
      },
      "source": [
        "Посмотрим, как будет меняться структура дерева, если брать для обучения разные 90%-ые подвыборки исходной выборки."
      ]
    },
    {
      "cell_type": "code",
      "metadata": {
        "id": "jSifA8knn6yX"
      },
      "source": [
        "fig, ax = plt.subplots(nrows=3, ncols=3, figsize=(15, 12))\n",
        "\n",
        "for i in range(3):\n",
        "    for j in range(3):\n",
        "        seed_idx = 3 * i + j\n",
        "        np.random.seed(seed_idx)\n",
        "        dt = DecisionTreeClassifier(random_state=13)\n",
        "        idx_part = np.random.choice(len(X), replace=False, size=int(0.9 * len(X)))\n",
        "        X_part, y_part = X[idx_part, :], y[idx_part]\n",
        "        dt.fit(X_part, y_part)\n",
        "        ax[i][j].set_title('sample #{}'.format(seed_idx))\n",
        "        ax[i][j].axis('off')\n",
        "        plot_decision_regions(X_part, y_part, dt, ax=ax[i][j])\n",
        "plt.show()"
      ],
      "execution_count": null,
      "outputs": []
    },
    {
      "cell_type": "markdown",
      "metadata": {
        "id": "cD44uRtkn6yZ"
      },
      "source": [
        "## 2. Задание"
      ]
    },
    {
      "cell_type": "markdown",
      "source": [
        "### 2.1. Изучение и подготовка датасета"
      ],
      "metadata": {
        "id": "u_XF3IZbtdWL"
      }
    },
    {
      "cell_type": "markdown",
      "source": [
        "Загрузите датасет физических упражнений Linnerud из библиотеки sklearn.\n",
        "Импортируйте библиотеку pandas"
      ],
      "metadata": {
        "id": "w1c8AkBqo582"
      }
    },
    {
      "cell_type": "code",
      "metadata": {
        "id": "fvsjuHYdn6ya"
      },
      "source": [],
      "execution_count": null,
      "outputs": []
    },
    {
      "cell_type": "markdown",
      "source": [
        "Посмотрите описание датасета с помощью 'DESCR'"
      ],
      "metadata": {
        "id": "LBTYJP7-p2YN"
      }
    },
    {
      "cell_type": "code",
      "metadata": {
        "id": "FAbQTj_jn6ye"
      },
      "source": [],
      "execution_count": null,
      "outputs": []
    },
    {
      "cell_type": "markdown",
      "source": [
        "Посмотрите ключи датасета. В виде какой структуры данных представлен датасет?"
      ],
      "metadata": {
        "id": "yRuQZ2p3qJku"
      }
    },
    {
      "cell_type": "code",
      "metadata": {
        "id": "3Y_juatLn6yg"
      },
      "source": [],
      "execution_count": null,
      "outputs": []
    },
    {
      "cell_type": "markdown",
      "source": [
        "Посмотрите названия признаков в датасете"
      ],
      "metadata": {
        "id": "PdqFxdViqdkm"
      }
    },
    {
      "cell_type": "code",
      "metadata": {
        "id": "OSRFKN2Sn6yj"
      },
      "source": [],
      "execution_count": null,
      "outputs": []
    },
    {
      "cell_type": "markdown",
      "source": [
        "Создайте датафрейм X - \"данные - имена признаков\". Выведите строки датафрейма"
      ],
      "metadata": {
        "id": "iBaZtKlbqu7T"
      }
    },
    {
      "cell_type": "code",
      "metadata": {
        "id": "ArgWIAxln6yl"
      },
      "source": [],
      "execution_count": null,
      "outputs": []
    },
    {
      "cell_type": "markdown",
      "source": [
        "Оцените размер датафрейма"
      ],
      "metadata": {
        "id": "hg9kCfgBrQIN"
      }
    },
    {
      "cell_type": "code",
      "metadata": {
        "id": "kLcLIi_2n6yn"
      },
      "source": [],
      "execution_count": null,
      "outputs": []
    },
    {
      "cell_type": "markdown",
      "source": [
        "Создайте переменную y с целевыми значениями датасета. Посмотрите значения целевой переменной"
      ],
      "metadata": {
        "id": "FunVeVLGrZH6"
      }
    },
    {
      "cell_type": "code",
      "metadata": {
        "id": "_VO4cOR6n6yp"
      },
      "source": [],
      "execution_count": null,
      "outputs": []
    },
    {
      "cell_type": "markdown",
      "source": [
        "Оцените размер целевой переменной"
      ],
      "metadata": {
        "id": "N3D205kFr1d8"
      }
    },
    {
      "cell_type": "code",
      "metadata": {
        "id": "4WDoNxqtn6yr"
      },
      "source": [],
      "execution_count": null,
      "outputs": []
    },
    {
      "cell_type": "markdown",
      "source": [
        "Выведите график распределения целевой переменной"
      ],
      "metadata": {
        "id": "jk5GtLiUsTQt"
      }
    },
    {
      "cell_type": "code",
      "metadata": {
        "id": "dRWYJ-VJn6ys"
      },
      "source": [
        "plt.title('... distribution')\n",
        "plt.xlabel('...')\n",
        "plt.ylabel('# samples')\n",
        "plt.hist(y, bins=20)\n",
        "plt.show()"
      ],
      "execution_count": null,
      "outputs": []
    },
    {
      "cell_type": "markdown",
      "source": [
        "Выполните разбиение датасета на обучающую и тестовую выборки с параметрами test_size=0.25 и random_state=13.\n",
        "Что задают эти параметры?"
      ],
      "metadata": {
        "id": "XgR74udYsjoE"
      }
    },
    {
      "cell_type": "code",
      "metadata": {
        "id": "OFuaXFM9n6yv"
      },
      "source": [],
      "execution_count": null,
      "outputs": []
    },
    {
      "cell_type": "markdown",
      "source": [
        "Оцените размер полученных выборок"
      ],
      "metadata": {
        "id": "VpvkSCX2tFor"
      }
    },
    {
      "cell_type": "code",
      "source": [],
      "metadata": {
        "id": "ayUSakGStQT0"
      },
      "execution_count": null,
      "outputs": []
    },
    {
      "cell_type": "markdown",
      "metadata": {
        "id": "K28xrtidn6yx"
      },
      "source": [
        "### 2.2. Модель решающего дерева"
      ]
    },
    {
      "cell_type": "markdown",
      "metadata": {
        "id": "HIq2KBvDn6yx"
      },
      "source": [
        "$R_m$ - множество объектов в разбиваемой вершине, $j$ - номер признака, по которому происходит разбиение, $t$ - порог разбиения.\n",
        "\n",
        "Критерий ошибки:\n",
        "\n",
        "$$\n",
        "Q(R_m, j, t) = \\frac{|R_\\ell|}{|R_m|}H(R_\\ell) + \\frac{|R_r|}{|R_m|}H(R_r) \\to \\min_{j, t}\n",
        "$$\n",
        "\n",
        "$R_\\ell$ - множество объектов в левом поддереве, $R_r$ - множество объектов в правом поддереве.\n",
        "\n",
        "$H(R)$ - критерий информативности, с помощью которого можно оценить качество распределения целевой переменной среди объектов множества $R$."
      ]
    },
    {
      "cell_type": "markdown",
      "metadata": {
        "id": "H6WRCskbn6yy"
      },
      "source": [
        "_Реализуем подсчет критерия ошибки. Для этого реализуем функции для подсчета значения критерия информативности, а также для разбиения вершины._"
      ]
    },
    {
      "cell_type": "code",
      "metadata": {
        "id": "dFM6Oh1en6yz"
      },
      "source": [
        "def H(R):\n",
        "    return y[R.index].var(ddof=0)\n",
        "\n",
        "\n",
        "def split_node(R_m, feature, t):\n",
        "    # your code\n",
        "    return\n",
        "\n",
        "\n",
        "def q_error(R_m, feature, t):\n",
        "    # your code\n",
        "    return"
      ],
      "execution_count": null,
      "outputs": []
    },
    {
      "cell_type": "markdown",
      "metadata": {
        "id": "s5l7PUaBn6y1"
      },
      "source": [
        "_Переберем все возможные разбиения выборки по одному из признаков и построим график критерия ошибки в зависимости от значения порога._"
      ]
    },
    {
      "cell_type": "code",
      "metadata": {
        "id": "xISFgq5Zn6y1"
      },
      "source": [
        "feature = '<choose feature>'\n",
        "Q_array = []\n",
        "feature_values = np.unique(X_train[feature])\n",
        "\n",
        "# your code"
      ],
      "execution_count": null,
      "outputs": []
    },
    {
      "cell_type": "markdown",
      "metadata": {
        "id": "Vs5nOxCjn6y3"
      },
      "source": [
        "### 2.3. Напишите функцию, находящую оптимальное разбиение данной вершины по данному признаку."
      ]
    },
    {
      "cell_type": "code",
      "metadata": {
        "id": "JRC9WVden6y3"
      },
      "source": [
        "def get_optimal_split(R_m, feature):\n",
        "    Q_array = []\n",
        "    feature_values = np.unique(R_m[feature])\n",
        "    for t in feature_values:\n",
        "        Q_array.append(q_error(R_m, feature, t))\n",
        "    opt_threshold = # your code here\n",
        "    return opt_threshold, Q_array"
      ],
      "execution_count": null,
      "outputs": []
    },
    {
      "cell_type": "code",
      "metadata": {
        "id": "JQt6Jgk6n6y6"
      },
      "source": [
        "t, Q_array = get_optimal_split(X_train, feature)\n",
        "plt.plot(np.unique(X_train[feature]), Q_array)\n",
        "plt.title(feature)\n",
        "plt.xlabel('threshold')\n",
        "plt.ylabel('Q error')\n",
        "plt.show()"
      ],
      "execution_count": null,
      "outputs": []
    },
    {
      "cell_type": "markdown",
      "metadata": {
        "id": "yaTsJUugn6y9"
      },
      "source": [
        "### 2.4. Постройте графики критерия ошибки (в зависимости от количества объектов в левом поддереве) для каждого из признаков. Найдите признак, показывающий наилучшее качество. Какой это признак? Каков порог разбиения и значение качества? Постройте график критерия ошибки для данного признака в зависимости от значения порога."
      ]
    },
    {
      "cell_type": "code",
      "metadata": {
        "id": "TE8u4LMLn6y-"
      },
      "source": [
        "results = []\n",
        "for f in X_train.columns:\n",
        "    t, Q_array = get_optimal_split(X_train, f)\n",
        "    # your code"
      ],
      "execution_count": null,
      "outputs": []
    },
    {
      "cell_type": "code",
      "metadata": {
        "id": "DU9oU49Gn6zA"
      },
      "source": [
        "results = sorted(results, key=lambda x: x[2])\n",
        "results"
      ],
      "execution_count": null,
      "outputs": []
    },
    {
      "cell_type": "code",
      "metadata": {
        "id": "ycuRmXCVn6zC"
      },
      "source": [
        "pd.DataFrame(results, columns=['feature', 'optimal t', 'min Q error'])"
      ],
      "execution_count": null,
      "outputs": []
    },
    {
      "cell_type": "code",
      "metadata": {
        "id": "jbqqSjahn6zF"
      },
      "source": [
        "optimal_feature, optimal_t, optimal_error = results[0]"
      ],
      "execution_count": null,
      "outputs": []
    },
    {
      "cell_type": "markdown",
      "metadata": {
        "id": "zDsWgJ5On6zH"
      },
      "source": [
        "### 2.5. Изобразите разбиение визуально. Для этого постройте диаграмму рассеяния целевой переменной в зависимости от значения найденного признака. Далее изобразите вертикальную линию, соответствующую порогу разбиения. Почему это разбиение может быть лучшим? Как вы можете интерпретировать результат?"
      ]
    },
    {
      "cell_type": "code",
      "metadata": {
        "id": "k5pI9gkmn6zH"
      },
      "source": [
        "plt.scatter(X[optimal_feature], y)\n",
        "plt.axvline(x=optimal_t, color=\"red\")\n",
        "plt.xlabel(optimal_feature)\n",
        "plt.ylabel('target')\n",
        "plt.title('Feature: {} | optimal t: {} | Q error: {:.2f}'.format(optimal_feature, optimal_t, optimal_error))\n",
        "plt.show()"
      ],
      "execution_count": null,
      "outputs": []
    },
    {
      "cell_type": "markdown",
      "metadata": {
        "id": "OEIR-n4hn6zK"
      },
      "source": [
        "## 3. Решающее дерево в библиотеке sklearn"
      ]
    },
    {
      "cell_type": "markdown",
      "source": [
        "### 3.1. Создание и обучение модели"
      ],
      "metadata": {
        "id": "71seGd-xwluu"
      }
    },
    {
      "cell_type": "code",
      "metadata": {
        "id": "t_qIyBZKn6zK"
      },
      "source": [
        "from sklearn.tree import DecisionTreeRegressor\n",
        "dt = DecisionTreeRegressor(max_depth=3, random_state=13)\n",
        "dt.fit(X_train, y_train)"
      ],
      "execution_count": null,
      "outputs": []
    },
    {
      "cell_type": "code",
      "metadata": {
        "scrolled": true,
        "id": "0yRAAyF2n6zM"
      },
      "source": [
        "from sklearn.tree import plot_tree\n",
        "plot_tree(dt, feature_names=X.columns, filled=True, rounded=True)\n",
        "plt.show()"
      ],
      "execution_count": null,
      "outputs": []
    },
    {
      "cell_type": "markdown",
      "source": [
        "### 3.2. Оценка качества обучения и выявление важности признаков"
      ],
      "metadata": {
        "id": "WREaDsOnw-Hx"
      }
    },
    {
      "cell_type": "code",
      "metadata": {
        "id": "K462JzXpn6zO"
      },
      "source": [
        "from sklearn.metrics import mean_squared_error\n",
        "mean_squared_error(y_test, dt.predict(X_test))"
      ],
      "execution_count": null,
      "outputs": []
    },
    {
      "cell_type": "code",
      "metadata": {
        "id": "mc8NIWC2oPm_"
      },
      "source": [
        "max_depth_array = range(2, 20)\n",
        "mse_array = []\n",
        "for max_depth in max_depth_array:\n",
        "    dt = DecisionTreeRegressor(max_depth=max_depth, random_state=13)\n",
        "    dt.fit(X_train, y_train)\n",
        "    mse_array.append(mean_squared_error(y_test, dt.predict(X_test)))\n",
        "plt.plot(max_depth_array, mse_array)\n",
        "plt.title('Dependence of MSE on max depth')\n",
        "plt.xlabel('max depth')\n",
        "plt.ylabel('MSE')\n",
        "plt.show()"
      ],
      "execution_count": null,
      "outputs": []
    },
    {
      "cell_type": "code",
      "metadata": {
        "id": "ImsdNpnhoQ1N"
      },
      "source": [
        "pd.DataFrame({\n",
        "    'max_depth': max_depth_array,\n",
        "    'MSE': mse_array\n",
        "}).sort_values(by='MSE').reset_index(drop=True)"
      ],
      "execution_count": null,
      "outputs": []
    },
    {
      "cell_type": "code",
      "metadata": {
        "id": "zC0PHh9toSQN"
      },
      "source": [
        "min_samples_leaf_array = range(1, 20)\n",
        "mse_array = []\n",
        "for min_samples_leaf in min_samples_leaf_array:\n",
        "    dt = DecisionTreeRegressor(max_depth=6, min_samples_leaf=min_samples_leaf, random_state=13)\n",
        "    dt.fit(X_train, y_train)\n",
        "    mse_array.append(mean_squared_error(y_test, dt.predict(X_test)))\n",
        "plt.plot(min_samples_leaf_array, mse_array)\n",
        "plt.title('Dependence of MSE on min samples leaf')\n",
        "plt.xlabel('min samples leaf')\n",
        "plt.ylabel('MSE')\n",
        "plt.show()"
      ],
      "execution_count": null,
      "outputs": []
    },
    {
      "cell_type": "code",
      "metadata": {
        "id": "qEBe9NbXoTpm"
      },
      "source": [
        "min_samples_split_array = range(2, 20)\n",
        "mse_array = []\n",
        "for min_samples_split in min_samples_split_array:\n",
        "    dt = DecisionTreeRegressor(max_depth=6, min_samples_split=min_samples_split, random_state=13)\n",
        "    dt.fit(X_train, y_train)\n",
        "    mse_array.append(mean_squared_error(y_test, dt.predict(X_test)))\n",
        "plt.plot(min_samples_split_array, mse_array)\n",
        "plt.title('Dependence of MSE on min samples split')\n",
        "plt.xlabel('min samples split')\n",
        "plt.ylabel('MSE')\n",
        "plt.show()"
      ],
      "execution_count": null,
      "outputs": []
    },
    {
      "cell_type": "code",
      "metadata": {
        "id": "puW22Xc6n6zP"
      },
      "source": [
        "dt = DecisionTreeRegressor(max_depth=6, random_state=13)\n",
        "dt.fit(X_train, y_train)\n",
        "plot_tree(dt, feature_names=X.columns, filled=True, rounded=True)\n",
        "plt.show()"
      ],
      "execution_count": null,
      "outputs": []
    },
    {
      "cell_type": "code",
      "metadata": {
        "id": "jP3kRvTen6zS"
      },
      "source": [
        "mean_squared_error(y_test, dt.predict(X_test))"
      ],
      "execution_count": null,
      "outputs": []
    },
    {
      "cell_type": "code",
      "metadata": {
        "id": "vQCRYsyXn6zU"
      },
      "source": [
        "dt.feature_importances_"
      ],
      "execution_count": null,
      "outputs": []
    },
    {
      "cell_type": "code",
      "metadata": {
        "id": "kW_i-L4Zn6zV"
      },
      "source": [
        "pd.DataFrame({\n",
        "    'feature': X.columns,\n",
        "    'importance': dt.feature_importances_\n",
        "}).sort_values(by='importance', ascending=False).reset_index(drop=True)"
      ],
      "execution_count": null,
      "outputs": []
    },
    {
      "cell_type": "markdown",
      "metadata": {
        "id": "ULLCGu7Kn6zW"
      },
      "source": [
        "### 3.3. Оценка влияния стандартизации (масштабирования) признаков на результат работы решающего дерева"
      ]
    },
    {
      "cell_type": "code",
      "metadata": {
        "id": "lnPQyzedn6zX"
      },
      "source": [
        "X_train.head()"
      ],
      "execution_count": null,
      "outputs": []
    },
    {
      "cell_type": "code",
      "metadata": {
        "id": "DV-b5l_nn6zY"
      },
      "source": [
        "from sklearn.preprocessing import StandardScaler\n",
        "sc = StandardScaler()\n",
        "X_train_scaled = pd.DataFrame(sc.fit_transform(X_train), columns=X_train.columns, index=X_train.index)\n",
        "X_test_scaled = pd.DataFrame(sc.transform(X_test), columns=X_test.columns, index=X_test.index)\n",
        "X_train_scaled.head()"
      ],
      "execution_count": null,
      "outputs": []
    },
    {
      "cell_type": "code",
      "metadata": {
        "id": "vIf1L2urn6zc"
      },
      "source": [
        "# with scaling\n",
        "for max_depth in [3, 6]:\n",
        "    dt = DecisionTreeRegressor(max_depth=max_depth, random_state=13)\n",
        "    dt.fit(X_train_scaled, y_train)\n",
        "    print(mean_squared_error(y_test, dt.predict(X_test_scaled)))"
      ],
      "execution_count": null,
      "outputs": []
    },
    {
      "cell_type": "code",
      "metadata": {
        "id": "-DuGDDgYn6zZ"
      },
      "source": [
        "# without scaling\n",
        "for max_depth in [3, 6]:\n",
        "    dt = DecisionTreeRegressor(max_depth=max_depth, random_state=13)\n",
        "    dt.fit(X_train, y_train)\n",
        "    print(mean_squared_error(y_test, dt.predict(X_test)))"
      ],
      "execution_count": null,
      "outputs": []
    },
    {
      "cell_type": "code",
      "source": [],
      "metadata": {
        "id": "XdoG3U8Dy4ft"
      },
      "execution_count": null,
      "outputs": []
    }
  ]
}