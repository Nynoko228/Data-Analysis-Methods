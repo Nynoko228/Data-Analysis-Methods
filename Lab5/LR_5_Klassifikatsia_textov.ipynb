{
  "nbformat": 4,
  "nbformat_minor": 0,
  "metadata": {
    "colab": {
      "provenance": []
    },
    "kernelspec": {
      "name": "python3",
      "display_name": "Python 3"
    }
  },
  "cells": [
    {
      "cell_type": "code",
      "metadata": {
        "id": "8jSVwwV0ZSib"
      },
      "source": [
        "import warnings\n",
        "warnings.filterwarnings(\"ignore\", category=FutureWarning)\n",
        "warnings.filterwarnings(\"ignore\")"
      ],
      "execution_count": null,
      "outputs": []
    },
    {
      "cell_type": "markdown",
      "metadata": {
        "id": "EyOBT_yuOPbt"
      },
      "source": [
        "## 1. Загружаем и изучаем датасет новостных текстов 20Newsgroups"
      ]
    },
    {
      "cell_type": "code",
      "metadata": {
        "id": "0pXEYBa1irKy"
      },
      "source": [
        "from sklearn.datasets import fetch_20newsgroups"
      ],
      "execution_count": null,
      "outputs": []
    },
    {
      "cell_type": "code",
      "metadata": {
        "id": "6kPs28eIizK7"
      },
      "source": [
        "newsgroups_train = fetch_20newsgroups(subset='train')\n",
        "newsgroups_test = fetch_20newsgroups(subset='test')"
      ],
      "execution_count": null,
      "outputs": []
    },
    {
      "cell_type": "code",
      "metadata": {
        "id": "-TJi0Cpvi0GB",
        "colab": {
          "base_uri": "https://localhost:8080/"
        },
        "outputId": "eb7a82d7-2459-4d27-8f93-908bff7742bc"
      },
      "source": [
        "newsgroups_train.keys()"
      ],
      "execution_count": null,
      "outputs": [
        {
          "output_type": "execute_result",
          "data": {
            "text/plain": [
              "dict_keys(['data', 'filenames', 'target_names', 'target', 'DESCR'])"
            ]
          },
          "metadata": {},
          "execution_count": 5
        }
      ]
    },
    {
      "cell_type": "code",
      "metadata": {
        "id": "3bS4nDRNi0Ju",
        "colab": {
          "base_uri": "https://localhost:8080/"
        },
        "outputId": "78907303-abae-4f13-ece9-559ff19d97e3"
      },
      "source": [
        "print (newsgroups_train.data[0])"
      ],
      "execution_count": null,
      "outputs": [
        {
          "output_type": "stream",
          "name": "stdout",
          "text": [
            "From: lerxst@wam.umd.edu (where's my thing)\n",
            "Subject: WHAT car is this!?\n",
            "Nntp-Posting-Host: rac3.wam.umd.edu\n",
            "Organization: University of Maryland, College Park\n",
            "Lines: 15\n",
            "\n",
            " I was wondering if anyone out there could enlighten me on this car I saw\n",
            "the other day. It was a 2-door sports car, looked to be from the late 60s/\n",
            "early 70s. It was called a Bricklin. The doors were really small. In addition,\n",
            "the front bumper was separate from the rest of the body. This is \n",
            "all I know. If anyone can tellme a model name, engine specs, years\n",
            "of production, where this car is made, history, or whatever info you\n",
            "have on this funky looking car, please e-mail.\n",
            "\n",
            "Thanks,\n",
            "- IL\n",
            "   ---- brought to you by your neighborhood Lerxst ----\n",
            "\n",
            "\n",
            "\n",
            "\n",
            "\n"
          ]
        }
      ]
    },
    {
      "cell_type": "markdown",
      "source": [
        "### Выведите количество и названия классов датасета"
      ],
      "metadata": {
        "id": "mgEusIv7GqR7"
      }
    },
    {
      "cell_type": "code",
      "source": [],
      "metadata": {
        "id": "crQg-w6aHJ29"
      },
      "execution_count": null,
      "outputs": []
    },
    {
      "cell_type": "markdown",
      "metadata": {
        "id": "4gyFClg2Oi3q"
      },
      "source": [
        "### 2. Предварительная обработка текста: удаление стоп-слов, стемминг"
      ]
    },
    {
      "cell_type": "code",
      "metadata": {
        "id": "NLzaHw-_i0su",
        "colab": {
          "base_uri": "https://localhost:8080/"
        },
        "outputId": "b93f0227-88c5-4ab6-eaa6-9870dd02b09e"
      },
      "source": [
        "import nltk\n",
        "nltk.download('stopwords')\n",
        "nltk.download('punkt')\n",
        "from nltk.corpus import stopwords\n",
        "from nltk.tokenize import word_tokenize\n",
        "import re\n",
        "import tqdm\n",
        "\n",
        "\n",
        "def preprocess_text(texts):\n",
        "    stop_words = set(stopwords.words('english'))\n",
        "    regex = re.compile('[^a-z A-Z]')\n",
        "    preprocess_texts = []\n",
        "    for i in  tqdm.tqdm(range(len(texts))):\n",
        "        text = texts[i].lower()\n",
        "        text = regex.sub(' ', text)\n",
        "        word_tokens = word_tokenize(text)\n",
        "        filtered_sentence = [w for w in word_tokens if not w in stop_words]\n",
        "        preprocess_texts.append( ' '.join(filtered_sentence))\n",
        "\n",
        "    return preprocess_texts"
      ],
      "execution_count": null,
      "outputs": [
        {
          "output_type": "stream",
          "name": "stderr",
          "text": [
            "[nltk_data] Downloading package stopwords to /root/nltk_data...\n",
            "[nltk_data]   Unzipping corpora/stopwords.zip.\n",
            "[nltk_data] Downloading package punkt to /root/nltk_data...\n",
            "[nltk_data]   Unzipping tokenizers/punkt.zip.\n"
          ]
        }
      ]
    },
    {
      "cell_type": "code",
      "metadata": {
        "id": "S-7Y15RKi0vg",
        "colab": {
          "base_uri": "https://localhost:8080/"
        },
        "outputId": "0468201b-30b6-4296-b9e3-7e17d2538606"
      },
      "source": [
        "newsgroups_train['preprocess_data'] = preprocess_text(newsgroups_train.data)"
      ],
      "execution_count": null,
      "outputs": [
        {
          "output_type": "stream",
          "name": "stderr",
          "text": [
            "100%|██████████| 11314/11314 [00:16<00:00, 668.93it/s]\n"
          ]
        }
      ]
    },
    {
      "cell_type": "code",
      "metadata": {
        "id": "okehw7-zjIqK",
        "colab": {
          "base_uri": "https://localhost:8080/"
        },
        "outputId": "f3153fe8-5b25-4be6-9859-f9d1aec5d28a"
      },
      "source": [
        "newsgroups_test['preprocess_data'] = preprocess_text(newsgroups_test.data)"
      ],
      "execution_count": null,
      "outputs": [
        {
          "output_type": "stream",
          "name": "stderr",
          "text": [
            "100%|██████████| 7532/7532 [00:10<00:00, 729.55it/s]\n"
          ]
        }
      ]
    },
    {
      "cell_type": "code",
      "metadata": {
        "id": "zTWtrSHAjItA",
        "colab": {
          "base_uri": "https://localhost:8080/"
        },
        "outputId": "ff36ad46-e446-46ca-811b-14646acb3cd0"
      },
      "source": [
        "print(newsgroups_train['preprocess_data'][0])"
      ],
      "execution_count": null,
      "outputs": [
        {
          "output_type": "stream",
          "name": "stdout",
          "text": [
            "lerxst wam umd edu thing subject car nntp posting host rac wam umd edu organization university maryland college park lines wondering anyone could enlighten car saw day door sports car looked late early called bricklin doors really small addition front bumper separate rest body know anyone tellme model name engine specs years production car made history whatever info funky looking car please e mail thanks il brought neighborhood lerxst\n"
          ]
        }
      ]
    },
    {
      "cell_type": "code",
      "metadata": {
        "id": "tZYKnEeYjIv1"
      },
      "source": [
        "from nltk.stem.lancaster import LancasterStemmer"
      ],
      "execution_count": null,
      "outputs": []
    },
    {
      "cell_type": "code",
      "metadata": {
        "id": "LZCOP9HFjIyR"
      },
      "source": [
        "def stemming_texts(texts):\n",
        "  st = LancasterStemmer()\n",
        "  stem_text = []\n",
        "  for text in tqdm.tqdm(texts):\n",
        "    word_tokens = word_tokenize(text)\n",
        "    stem_text.append(' '.join([st.stem(word) for word in word_tokens]))\n",
        "  return stem_text"
      ],
      "execution_count": null,
      "outputs": []
    },
    {
      "cell_type": "code",
      "metadata": {
        "id": "D0h_D9xujI1E",
        "colab": {
          "base_uri": "https://localhost:8080/"
        },
        "outputId": "9b9025e7-2dba-4140-f0c6-ac0da220e8aa"
      },
      "source": [
        "newsgroups_train['data_stemming'] = \\\n",
        "                           stemming_texts(newsgroups_train.preprocess_data)"
      ],
      "execution_count": null,
      "outputs": [
        {
          "output_type": "stream",
          "name": "stderr",
          "text": [
            "100%|██████████| 11314/11314 [00:44<00:00, 252.34it/s]\n"
          ]
        }
      ]
    },
    {
      "cell_type": "code",
      "metadata": {
        "id": "0IgwyKC0jI3g",
        "colab": {
          "base_uri": "https://localhost:8080/"
        },
        "outputId": "2705d655-36ad-49e3-d81a-3c4f44d2a81e"
      },
      "source": [
        "newsgroups_test['data_stemming'] = \\\n",
        "                            stemming_texts(newsgroups_test.preprocess_data)"
      ],
      "execution_count": null,
      "outputs": [
        {
          "output_type": "stream",
          "name": "stderr",
          "text": [
            "100%|██████████| 7532/7532 [00:27<00:00, 276.46it/s]\n"
          ]
        }
      ]
    },
    {
      "cell_type": "code",
      "metadata": {
        "id": "N0GU53hfjI6C",
        "colab": {
          "base_uri": "https://localhost:8080/"
        },
        "outputId": "baee06fd-2b3a-466a-c1f0-d746b663ad18"
      },
      "source": [
        "print(newsgroups_train.data_stemming[0])"
      ],
      "execution_count": null,
      "outputs": [
        {
          "output_type": "stream",
          "name": "stdout",
          "text": [
            "lerxst wam umd edu thing subject car nntp post host rac wam umd edu org univers maryland colleg park lin wond anyon could enlight car saw day door sport car look lat ear cal bricklin door real smal addit front bump sep rest body know anyon tellm model nam engin spec year produc car mad hist whatev info funky look car pleas e mail thank il brought neighb lerxst\n"
          ]
        }
      ]
    },
    {
      "cell_type": "code",
      "metadata": {
        "id": "lPpe-b5zvmUW",
        "colab": {
          "base_uri": "https://localhost:8080/"
        },
        "outputId": "727f4f51-7d14-495c-85c3-67bcb6162e74"
      },
      "source": [
        "print(newsgroups_train.preprocess_data[0])"
      ],
      "execution_count": null,
      "outputs": [
        {
          "output_type": "stream",
          "name": "stdout",
          "text": [
            "lerxst wam umd edu thing subject car nntp posting host rac wam umd edu organization university maryland college park lines wondering anyone could enlighten car saw day door sports car looked late early called bricklin doors really small addition front bumper separate rest body know anyone tellme model name engine specs years production car made history whatever info funky looking car please e mail thanks il brought neighborhood lerxst\n"
          ]
        }
      ]
    },
    {
      "cell_type": "markdown",
      "metadata": {
        "id": "etnaHjcgOzu6"
      },
      "source": [
        "### 3. Перевод текста в вещественное пространство признаков"
      ]
    },
    {
      "cell_type": "markdown",
      "metadata": {
        "id": "Wk1VkR5IO7oO"
      },
      "source": [
        "#### 3.1 Bag of Words (мешок слов)"
      ]
    },
    {
      "cell_type": "markdown",
      "metadata": {
        "id": "hI8oo_G1PClx"
      },
      "source": [
        "Основное предположение данного метода — порядок слов в документе не важен,\n",
        "\n",
        "а все документы представляются в виде матрицы $ T = (t)_{d,w}$,\n",
        "\n",
        "каждая строка в которой соответствует отдельному документу или тексту,\n",
        "\n",
        "а каждый столбец — определенному слову.\n",
        "\n",
        "Элемент $t_{d,w}$ соответствует количеству вхождений слова $w$ в документ $d$.\n",
        "\n",
        "\n",
        "\n",
        "\n",
        "\n"
      ]
    },
    {
      "cell_type": "code",
      "metadata": {
        "id": "WocMYLbTv9vC"
      },
      "source": [
        "from sklearn.feature_extraction.text import CountVectorizer"
      ],
      "execution_count": null,
      "outputs": []
    },
    {
      "cell_type": "code",
      "metadata": {
        "id": "VC_57sTEQBMa"
      },
      "source": [
        "vectorizer = CountVectorizer()"
      ],
      "execution_count": null,
      "outputs": []
    },
    {
      "cell_type": "code",
      "metadata": {
        "id": "Aybc8qotQHh8",
        "colab": {
          "base_uri": "https://localhost:8080/",
          "height": 74
        },
        "outputId": "a2270322-81b1-47bb-acb9-9fb1f2aa226f"
      },
      "source": [
        "vectorizer.fit(['порядок слов в документе не важен', 'мешок слов'])"
      ],
      "execution_count": null,
      "outputs": [
        {
          "output_type": "execute_result",
          "data": {
            "text/plain": [
              "CountVectorizer()"
            ],
            "text/html": [
              "<style>#sk-container-id-1 {color: black;background-color: white;}#sk-container-id-1 pre{padding: 0;}#sk-container-id-1 div.sk-toggleable {background-color: white;}#sk-container-id-1 label.sk-toggleable__label {cursor: pointer;display: block;width: 100%;margin-bottom: 0;padding: 0.3em;box-sizing: border-box;text-align: center;}#sk-container-id-1 label.sk-toggleable__label-arrow:before {content: \"▸\";float: left;margin-right: 0.25em;color: #696969;}#sk-container-id-1 label.sk-toggleable__label-arrow:hover:before {color: black;}#sk-container-id-1 div.sk-estimator:hover label.sk-toggleable__label-arrow:before {color: black;}#sk-container-id-1 div.sk-toggleable__content {max-height: 0;max-width: 0;overflow: hidden;text-align: left;background-color: #f0f8ff;}#sk-container-id-1 div.sk-toggleable__content pre {margin: 0.2em;color: black;border-radius: 0.25em;background-color: #f0f8ff;}#sk-container-id-1 input.sk-toggleable__control:checked~div.sk-toggleable__content {max-height: 200px;max-width: 100%;overflow: auto;}#sk-container-id-1 input.sk-toggleable__control:checked~label.sk-toggleable__label-arrow:before {content: \"▾\";}#sk-container-id-1 div.sk-estimator input.sk-toggleable__control:checked~label.sk-toggleable__label {background-color: #d4ebff;}#sk-container-id-1 div.sk-label input.sk-toggleable__control:checked~label.sk-toggleable__label {background-color: #d4ebff;}#sk-container-id-1 input.sk-hidden--visually {border: 0;clip: rect(1px 1px 1px 1px);clip: rect(1px, 1px, 1px, 1px);height: 1px;margin: -1px;overflow: hidden;padding: 0;position: absolute;width: 1px;}#sk-container-id-1 div.sk-estimator {font-family: monospace;background-color: #f0f8ff;border: 1px dotted black;border-radius: 0.25em;box-sizing: border-box;margin-bottom: 0.5em;}#sk-container-id-1 div.sk-estimator:hover {background-color: #d4ebff;}#sk-container-id-1 div.sk-parallel-item::after {content: \"\";width: 100%;border-bottom: 1px solid gray;flex-grow: 1;}#sk-container-id-1 div.sk-label:hover label.sk-toggleable__label {background-color: #d4ebff;}#sk-container-id-1 div.sk-serial::before {content: \"\";position: absolute;border-left: 1px solid gray;box-sizing: border-box;top: 0;bottom: 0;left: 50%;z-index: 0;}#sk-container-id-1 div.sk-serial {display: flex;flex-direction: column;align-items: center;background-color: white;padding-right: 0.2em;padding-left: 0.2em;position: relative;}#sk-container-id-1 div.sk-item {position: relative;z-index: 1;}#sk-container-id-1 div.sk-parallel {display: flex;align-items: stretch;justify-content: center;background-color: white;position: relative;}#sk-container-id-1 div.sk-item::before, #sk-container-id-1 div.sk-parallel-item::before {content: \"\";position: absolute;border-left: 1px solid gray;box-sizing: border-box;top: 0;bottom: 0;left: 50%;z-index: -1;}#sk-container-id-1 div.sk-parallel-item {display: flex;flex-direction: column;z-index: 1;position: relative;background-color: white;}#sk-container-id-1 div.sk-parallel-item:first-child::after {align-self: flex-end;width: 50%;}#sk-container-id-1 div.sk-parallel-item:last-child::after {align-self: flex-start;width: 50%;}#sk-container-id-1 div.sk-parallel-item:only-child::after {width: 0;}#sk-container-id-1 div.sk-dashed-wrapped {border: 1px dashed gray;margin: 0 0.4em 0.5em 0.4em;box-sizing: border-box;padding-bottom: 0.4em;background-color: white;}#sk-container-id-1 div.sk-label label {font-family: monospace;font-weight: bold;display: inline-block;line-height: 1.2em;}#sk-container-id-1 div.sk-label-container {text-align: center;}#sk-container-id-1 div.sk-container {/* jupyter's `normalize.less` sets `[hidden] { display: none; }` but bootstrap.min.css set `[hidden] { display: none !important; }` so we also need the `!important` here to be able to override the default hidden behavior on the sphinx rendered scikit-learn.org. See: https://github.com/scikit-learn/scikit-learn/issues/21755 */display: inline-block !important;position: relative;}#sk-container-id-1 div.sk-text-repr-fallback {display: none;}</style><div id=\"sk-container-id-1\" class=\"sk-top-container\"><div class=\"sk-text-repr-fallback\"><pre>CountVectorizer()</pre><b>In a Jupyter environment, please rerun this cell to show the HTML representation or trust the notebook. <br />On GitHub, the HTML representation is unable to render, please try loading this page with nbviewer.org.</b></div><div class=\"sk-container\" hidden><div class=\"sk-item\"><div class=\"sk-estimator sk-toggleable\"><input class=\"sk-toggleable__control sk-hidden--visually\" id=\"sk-estimator-id-1\" type=\"checkbox\" checked><label for=\"sk-estimator-id-1\" class=\"sk-toggleable__label sk-toggleable__label-arrow\">CountVectorizer</label><div class=\"sk-toggleable__content\"><pre>CountVectorizer()</pre></div></div></div></div></div>"
            ]
          },
          "metadata": {},
          "execution_count": 18
        }
      ]
    },
    {
      "cell_type": "code",
      "metadata": {
        "id": "LM1spxAeQe3q",
        "colab": {
          "base_uri": "https://localhost:8080/"
        },
        "outputId": "e82f3077-3eb8-4bb1-8a83-c84325110f94"
      },
      "source": [
        "vectorizer.get_feature_names_out()"
      ],
      "execution_count": null,
      "outputs": [
        {
          "output_type": "execute_result",
          "data": {
            "text/plain": [
              "array(['важен', 'документе', 'мешок', 'не', 'порядок', 'слов'],\n",
              "      dtype=object)"
            ]
          },
          "metadata": {},
          "execution_count": 19
        }
      ]
    },
    {
      "cell_type": "code",
      "metadata": {
        "id": "dvG4o-1kQn3z",
        "colab": {
          "base_uri": "https://localhost:8080/"
        },
        "outputId": "35bb2243-0259-4ac7-ed1e-d8d33225ba48"
      },
      "source": [
        "vectorizer.transform(['важен порядок', 'не мешок не порядок']).toarray()"
      ],
      "execution_count": null,
      "outputs": [
        {
          "output_type": "execute_result",
          "data": {
            "text/plain": [
              "array([[1, 0, 0, 0, 1, 0],\n",
              "       [0, 0, 1, 2, 1, 0]])"
            ]
          },
          "metadata": {},
          "execution_count": 20
        }
      ]
    },
    {
      "cell_type": "code",
      "metadata": {
        "id": "4fednKkjeE-_"
      },
      "source": [
        "def bow(vectorizer, train, test):\n",
        "  train_bow = vectorizer.fit_transform(train)\n",
        "  test_bow = vectorizer.transform(test)\n",
        "  return train_bow, test_bow"
      ],
      "execution_count": null,
      "outputs": []
    },
    {
      "cell_type": "code",
      "metadata": {
        "id": "LEPL9R0jfUc-"
      },
      "source": [
        "X_train_bow, X_test_bow = bow(vectorizer,\n",
        "                              newsgroups_train.data,\n",
        "                              newsgroups_test.data)"
      ],
      "execution_count": null,
      "outputs": []
    },
    {
      "cell_type": "code",
      "metadata": {
        "id": "xaETMkjcfuTv",
        "colab": {
          "base_uri": "https://localhost:8080/"
        },
        "outputId": "466e2ca5-9e2e-4218-b5f2-7b07a3869dc9"
      },
      "source": [
        "X_train_bow.shape"
      ],
      "execution_count": null,
      "outputs": [
        {
          "output_type": "execute_result",
          "data": {
            "text/plain": [
              "(11314, 130107)"
            ]
          },
          "metadata": {},
          "execution_count": 23
        }
      ]
    },
    {
      "cell_type": "code",
      "metadata": {
        "id": "VXwbJ1OBf1SV",
        "colab": {
          "base_uri": "https://localhost:8080/"
        },
        "outputId": "e45903f1-3c2c-45a7-d46e-eb1b0e39e780"
      },
      "source": [
        "X_test_bow.shape"
      ],
      "execution_count": null,
      "outputs": [
        {
          "output_type": "execute_result",
          "data": {
            "text/plain": [
              "(7532, 130107)"
            ]
          },
          "metadata": {},
          "execution_count": 24
        }
      ]
    },
    {
      "cell_type": "code",
      "metadata": {
        "id": "IEfDbzuRgDSY"
      },
      "source": [
        "X_train_bow_preprocess, X_test_bow_preprocess = bow(vectorizer,\n",
        "                                                    newsgroups_train.preprocess_data,\n",
        "                                                    newsgroups_test.preprocess_data)"
      ],
      "execution_count": null,
      "outputs": []
    },
    {
      "cell_type": "code",
      "metadata": {
        "id": "D2BHnhodjIIs",
        "colab": {
          "base_uri": "https://localhost:8080/"
        },
        "outputId": "1bee55ac-54ae-4022-a082-af512792b4b2"
      },
      "source": [
        "X_train_bow_preprocess.shape"
      ],
      "execution_count": null,
      "outputs": [
        {
          "output_type": "execute_result",
          "data": {
            "text/plain": [
              "(11314, 88863)"
            ]
          },
          "metadata": {},
          "execution_count": 26
        }
      ]
    },
    {
      "cell_type": "code",
      "metadata": {
        "id": "-vxGrCfejLVX",
        "colab": {
          "base_uri": "https://localhost:8080/"
        },
        "outputId": "4b036073-10b3-4e9d-b624-71bdeeb0072d"
      },
      "source": [
        "X_test_bow_preprocess.shape"
      ],
      "execution_count": null,
      "outputs": [
        {
          "output_type": "execute_result",
          "data": {
            "text/plain": [
              "(7532, 88863)"
            ]
          },
          "metadata": {},
          "execution_count": 27
        }
      ]
    },
    {
      "cell_type": "code",
      "metadata": {
        "id": "ftID74NijN7q"
      },
      "source": [
        "X_train_bow_stem, X_test_bow_stem = bow(vectorizer,\n",
        "                                        newsgroups_train.data_stemming,\n",
        "                                        newsgroups_test.data_stemming)"
      ],
      "execution_count": null,
      "outputs": []
    },
    {
      "cell_type": "code",
      "metadata": {
        "id": "BDErCxTPjgr1",
        "colab": {
          "base_uri": "https://localhost:8080/"
        },
        "outputId": "58471eb2-7e95-41cb-b3eb-f467e92e4a34"
      },
      "source": [
        "X_train_bow_stem.shape"
      ],
      "execution_count": null,
      "outputs": [
        {
          "output_type": "execute_result",
          "data": {
            "text/plain": [
              "(11314, 61221)"
            ]
          },
          "metadata": {},
          "execution_count": 29
        }
      ]
    },
    {
      "cell_type": "code",
      "metadata": {
        "id": "xoTAihrHjlnk",
        "colab": {
          "base_uri": "https://localhost:8080/"
        },
        "outputId": "6312810b-5c85-4c6c-bd25-d21a91cc09f9"
      },
      "source": [
        "X_test_bow_stem.shape"
      ],
      "execution_count": null,
      "outputs": [
        {
          "output_type": "execute_result",
          "data": {
            "text/plain": [
              "(7532, 61221)"
            ]
          },
          "metadata": {},
          "execution_count": 30
        }
      ]
    },
    {
      "cell_type": "markdown",
      "metadata": {
        "id": "8JvGQleCSvHS"
      },
      "source": [
        "#### 3.2 Bag of Words & TF IDF"
      ]
    },
    {
      "cell_type": "markdown",
      "metadata": {
        "id": "8YSNwHr2SRMh"
      },
      "source": [
        "$TF-IDF$ — это статистическая мера, используемая для оценки\n",
        "\n",
        "важности слова в контексте документа. Вычисляется по формуле:\n",
        "\n",
        "$$TF-IDF(w, d, D) = TF(w, d) × IDF(w, D)$$\n",
        "\n",
        "$TF$ — частота слова, оценивает важность слова $w_i$ в пределах отдельного документа.\n",
        "\n",
        "$$TF(w, d) = \\frac{n_i}{\\sum_k n_k}$$\n",
        "\n",
        "$n_i$ — число вхождений слова $i$ в документ.\n",
        "\n",
        "$\\sum_k n_k$ — общее число слов в данном документе.\n",
        "\n",
        "$IDF$ — обратная частота документа.\n",
        "\n",
        "Учёт $IDF$ уменьшает вес широко употребляемых слов.\n",
        "$$IDF(w, D) = \\log \\frac{|D|}{|w_i \\subset d_i|}, \\text{где}$$\n",
        "\n",
        "$|D|$ — количество документов в корпусе.\n",
        "\n",
        "$|w_i \\subset d_i|$ — количество документов,\n",
        "\n",
        "в которых встречается слово $w_i$."
      ]
    },
    {
      "cell_type": "code",
      "metadata": {
        "id": "rteG9u1zjovT"
      },
      "source": [
        "from sklearn.feature_extraction.text import TfidfVectorizer"
      ],
      "execution_count": null,
      "outputs": []
    },
    {
      "cell_type": "code",
      "metadata": {
        "id": "FKZDpujwkIdK"
      },
      "source": [
        "vectorizer_tf_idf = TfidfVectorizer()"
      ],
      "execution_count": null,
      "outputs": []
    },
    {
      "cell_type": "code",
      "metadata": {
        "id": "KlDqTbIFkSq2"
      },
      "source": [
        "X_train_tfidf, X_test_tfidf = bow(vectorizer_tf_idf,\n",
        "                                  newsgroups_train.data,\n",
        "                                  newsgroups_test.data)"
      ],
      "execution_count": null,
      "outputs": []
    },
    {
      "cell_type": "code",
      "metadata": {
        "id": "1JTYu0JEkqVi"
      },
      "source": [
        "X_train_tfidf_preprocess, X_test_tfidf_preprocess = bow(vectorizer_tf_idf,\n",
        "                                                        newsgroups_train.preprocess_data,\n",
        "                                                        newsgroups_test.preprocess_data)"
      ],
      "execution_count": null,
      "outputs": []
    },
    {
      "cell_type": "code",
      "metadata": {
        "id": "0zmpdGT1lIWL"
      },
      "source": [
        "X_train_tfidf_stem, X_test_tfidf_stem = bow(vectorizer_tf_idf,\n",
        "                                            newsgroups_train.data_stemming,\n",
        "                                            newsgroups_test.data_stemming)"
      ],
      "execution_count": null,
      "outputs": []
    },
    {
      "cell_type": "code",
      "metadata": {
        "id": "3u-SKgBXlbRq"
      },
      "source": [
        "vectorizer_ngram = TfidfVectorizer(ngram_range=(1,2))"
      ],
      "execution_count": null,
      "outputs": []
    },
    {
      "cell_type": "code",
      "metadata": {
        "id": "eFKYG1uRmZgV"
      },
      "source": [
        "X_train_ngram_stem, X_test_ngram_stem = bow(vectorizer_ngram,\n",
        "                                            newsgroups_train.data_stemming,\n",
        "                                            newsgroups_test.data_stemming)"
      ],
      "execution_count": null,
      "outputs": []
    },
    {
      "cell_type": "code",
      "metadata": {
        "id": "D4xEOvcanTgN",
        "colab": {
          "base_uri": "https://localhost:8080/"
        },
        "outputId": "9b27c9db-c5ab-48e3-a45d-1a622d5fad14"
      },
      "source": [
        "X_train_ngram_stem.shape"
      ],
      "execution_count": null,
      "outputs": [
        {
          "output_type": "execute_result",
          "data": {
            "text/plain": [
              "(11314, 934463)"
            ]
          },
          "metadata": {},
          "execution_count": 38
        }
      ]
    },
    {
      "cell_type": "code",
      "metadata": {
        "id": "Vq4oBoQwnaU-",
        "colab": {
          "base_uri": "https://localhost:8080/"
        },
        "outputId": "aa4efe26-f335-475f-8e43-3d30d74199de"
      },
      "source": [
        "X_test_ngram_stem.shape"
      ],
      "execution_count": null,
      "outputs": [
        {
          "output_type": "execute_result",
          "data": {
            "text/plain": [
              "(7532, 934463)"
            ]
          },
          "metadata": {},
          "execution_count": 39
        }
      ]
    },
    {
      "cell_type": "markdown",
      "metadata": {
        "id": "DdeFw_f58fw4"
      },
      "source": [
        "### 4. Выбор алгоритма машинного обучения для классификации"
      ]
    },
    {
      "cell_type": "code",
      "metadata": {
        "id": "GhRQvNYLndMl"
      },
      "source": [
        "from sklearn.metrics import accuracy_score\n",
        "import numpy as np"
      ],
      "execution_count": null,
      "outputs": []
    },
    {
      "cell_type": "code",
      "metadata": {
        "id": "47mZPCNrZzMk"
      },
      "source": [
        "from sklearn.linear_model import LogisticRegression\n",
        "clf = LogisticRegression()"
      ],
      "execution_count": null,
      "outputs": []
    },
    {
      "cell_type": "code",
      "metadata": {
        "id": "doizgpm8TJGl"
      },
      "source": [
        "from sklearn.svm import LinearSVC\n",
        "clf_svc = LinearSVC()"
      ],
      "execution_count": null,
      "outputs": []
    },
    {
      "cell_type": "code",
      "metadata": {
        "id": "BxB4gQxUZzG4",
        "colab": {
          "base_uri": "https://localhost:8080/"
        },
        "outputId": "a6d9f0d2-00e9-43c1-df97-d94256cbf2a9"
      },
      "source": [
        "clf.fit(X_train_bow, newsgroups_train.target)\n",
        "print ('LogisticRegression: ',\n",
        "       accuracy_score(clf.predict(X_test_bow), newsgroups_test.target))\n",
        "\n",
        "clf_svc.fit(X_train_bow, newsgroups_train.target)\n",
        "print ('LinearSVC: ',\n",
        "       accuracy_score(clf_svc.predict(X_test_bow), newsgroups_test.target))"
      ],
      "execution_count": null,
      "outputs": [
        {
          "output_type": "stream",
          "name": "stdout",
          "text": [
            "LogisticRegression:  0.7892989909718534\n",
            "LinearSVC:  0.7859798194370685\n"
          ]
        }
      ]
    },
    {
      "cell_type": "code",
      "metadata": {
        "id": "9e9N2wHqZzAo",
        "colab": {
          "base_uri": "https://localhost:8080/"
        },
        "outputId": "87e70289-cf0c-4aec-8a8d-34deab879a4b"
      },
      "source": [
        "clf.fit(X_train_bow_preprocess, newsgroups_train.target)\n",
        "print ('LogisticRegression: ',\n",
        "       accuracy_score(clf.predict(X_test_bow_preprocess),\n",
        "                      newsgroups_test.target))\n",
        "\n",
        "clf_svc.fit(X_train_bow_preprocess, newsgroups_train.target)\n",
        "print ('LinearSVC: ',\n",
        "       accuracy_score(clf_svc.predict(X_test_bow_preprocess),\n",
        "                      newsgroups_test.target))\n",
        "\n"
      ],
      "execution_count": null,
      "outputs": [
        {
          "output_type": "stream",
          "name": "stdout",
          "text": [
            "LogisticRegression:  0.8017790759426447\n",
            "LinearSVC:  0.7928836962294211\n"
          ]
        }
      ]
    },
    {
      "cell_type": "code",
      "metadata": {
        "id": "gjNzmA3eZy7O",
        "colab": {
          "base_uri": "https://localhost:8080/"
        },
        "outputId": "561b692a-b73c-4ca4-e421-04e2b4d3d13e"
      },
      "source": [
        "clf.fit(X_train_bow_stem, newsgroups_train.target)\n",
        "print ('LogisticRegression: ',\n",
        "       accuracy_score(clf.predict(X_test_bow_stem),\n",
        "                      newsgroups_test.target))\n",
        "\n",
        "clf_svc.fit(X_train_bow_stem, newsgroups_train.target)\n",
        "print ('LinearSVC: ',\n",
        "       accuracy_score(clf_svc.predict(X_test_bow_stem),\n",
        "                      newsgroups_test.target))"
      ],
      "execution_count": null,
      "outputs": [
        {
          "output_type": "stream",
          "name": "stdout",
          "text": [
            "LogisticRegression:  0.7973977695167286\n",
            "LinearSVC:  0.781465746149761\n"
          ]
        }
      ]
    },
    {
      "cell_type": "code",
      "metadata": {
        "id": "dz9GwO-NZyyg",
        "colab": {
          "base_uri": "https://localhost:8080/"
        },
        "outputId": "5ac2fe9e-6981-4106-8347-fda3e0723c9b"
      },
      "source": [
        "clf.fit(X_train_tfidf, newsgroups_train.target)\n",
        "print ('LogisticRegression: ',\n",
        "       accuracy_score(clf.predict(X_test_tfidf), newsgroups_test.target))\n",
        "\n",
        "clf_svc.fit(X_train_tfidf, newsgroups_train.target)\n",
        "print ('LinearSVC: ',\n",
        "       accuracy_score(clf_svc.predict(X_test_tfidf), newsgroups_test.target))"
      ],
      "execution_count": null,
      "outputs": [
        {
          "output_type": "stream",
          "name": "stdout",
          "text": [
            "LogisticRegression:  0.8274030801911842\n",
            "LinearSVC:  0.8531598513011153\n"
          ]
        }
      ]
    },
    {
      "cell_type": "code",
      "metadata": {
        "id": "OTVeqc4GZyei",
        "colab": {
          "base_uri": "https://localhost:8080/"
        },
        "outputId": "e1f02fa4-241b-4e0e-ac25-f45a96efcdab"
      },
      "source": [
        "clf.fit(X_train_tfidf_preprocess, newsgroups_train.target)\n",
        "print ('LogisticRegression: ',\n",
        "        accuracy_score(clf.predict(X_test_tfidf_preprocess),\n",
        "                       newsgroups_test.target))\n",
        "\n",
        "clf_svc.fit(X_train_tfidf_preprocess, newsgroups_train.target)\n",
        "print ('LinearSVC: ',\n",
        "        accuracy_score(clf_svc.predict(X_test_tfidf_preprocess),\n",
        "                       newsgroups_test.target))"
      ],
      "execution_count": null,
      "outputs": [
        {
          "output_type": "stream",
          "name": "stdout",
          "text": [
            "LogisticRegression:  0.8323154540626659\n",
            "LinearSVC:  0.8509028146574615\n"
          ]
        }
      ]
    },
    {
      "cell_type": "code",
      "metadata": {
        "id": "AsWsVay6Zyax",
        "colab": {
          "base_uri": "https://localhost:8080/"
        },
        "outputId": "a1869311-3e93-4b22-8cf0-8cdbf54d0a38"
      },
      "source": [
        "clf.fit(X_train_tfidf_stem, newsgroups_train.target)\n",
        "print ('LogisticRegression: ',\n",
        "       accuracy_score(clf.predict(X_test_tfidf_stem),\n",
        "                      newsgroups_test.target))\n",
        "\n",
        "clf_svc.fit(X_train_tfidf_stem, newsgroups_train.target)\n",
        "print ('LinearSVC: ',\n",
        "       accuracy_score(clf_svc.predict(X_test_tfidf_stem),\n",
        "                      newsgroups_test.target))"
      ],
      "execution_count": null,
      "outputs": [
        {
          "output_type": "stream",
          "name": "stdout",
          "text": [
            "LogisticRegression:  0.825942644715879\n",
            "LinearSVC:  0.8437334041423261\n"
          ]
        }
      ]
    },
    {
      "cell_type": "code",
      "metadata": {
        "id": "EpIlTWoYZyYU",
        "colab": {
          "base_uri": "https://localhost:8080/"
        },
        "outputId": "7c1beaae-ff93-4ebb-c090-161563eacc57"
      },
      "source": [
        "clf.fit(X_train_ngram_stem, newsgroups_train.target)\n",
        "print ('LogisticRegression: ',\n",
        "       accuracy_score(clf.predict(X_test_ngram_stem),\n",
        "                      newsgroups_test.target))\n",
        "\n",
        "clf_svc.fit(X_train_ngram_stem, newsgroups_train.target)\n",
        "print ('LinearSVC: ',\n",
        "       accuracy_score(clf_svc.predict(X_test_ngram_stem),\n",
        "                      newsgroups_test.target))"
      ],
      "execution_count": null,
      "outputs": [
        {
          "output_type": "stream",
          "name": "stdout",
          "text": [
            "LogisticRegression:  0.8295273499734467\n",
            "LinearSVC:  0.8555496548061604\n"
          ]
        }
      ]
    },
    {
      "cell_type": "code",
      "metadata": {
        "id": "JJHWFcawjVKd"
      },
      "source": [
        "import seaborn\n",
        "from sklearn.metrics import confusion_matrix"
      ],
      "execution_count": null,
      "outputs": []
    },
    {
      "cell_type": "code",
      "metadata": {
        "id": "WcuEWD2IjVII"
      },
      "source": [
        "predict_targets = clf_svc.predict(X_test_ngram_stem)"
      ],
      "execution_count": null,
      "outputs": []
    },
    {
      "cell_type": "code",
      "metadata": {
        "id": "GuCopDNujVDM",
        "colab": {
          "base_uri": "https://localhost:8080/",
          "height": 447
        },
        "outputId": "c74c6dcc-f142-46f0-ccf8-8a4fe043c2f0"
      },
      "source": [
        "seaborn.heatmap(confusion_matrix(newsgroups_test.target, predict_targets))"
      ],
      "execution_count": null,
      "outputs": [
        {
          "output_type": "execute_result",
          "data": {
            "text/plain": [
              "<Axes: >"
            ]
          },
          "metadata": {},
          "execution_count": 52
        },
        {
          "output_type": "display_data",
          "data": {
            "text/plain": [
              "<Figure size 640x480 with 2 Axes>"
            ],
            "image/png": "[encoded data removed]"
          },
          "metadata": {}
        }
      ]
    },
    {
      "cell_type": "code",
      "metadata": {
        "id": "2sSdHDPjjVAv",
        "colab": {
          "base_uri": "https://localhost:8080/",
          "height": 36
        },
        "outputId": "0e3fca3f-6650-4d32-f200-908329e4cf86"
      },
      "source": [
        "newsgroups_test.target_names[18]"
      ],
      "execution_count": null,
      "outputs": [
        {
          "output_type": "execute_result",
          "data": {
            "text/plain": [
              "'talk.politics.misc'"
            ],
            "application/vnd.google.colaboratory.intrinsic+json": {
              "type": "string"
            }
          },
          "metadata": {},
          "execution_count": 53
        }
      ]
    },
    {
      "cell_type": "code",
      "metadata": {
        "id": "hrluANXdjU9Q",
        "colab": {
          "base_uri": "https://localhost:8080/",
          "height": 36
        },
        "outputId": "51932c84-c0d2-4ebf-e443-708a981fb5e5"
      },
      "source": [
        "newsgroups_test.target_names[16]"
      ],
      "execution_count": null,
      "outputs": [
        {
          "output_type": "execute_result",
          "data": {
            "text/plain": [
              "'talk.politics.guns'"
            ],
            "application/vnd.google.colaboratory.intrinsic+json": {
              "type": "string"
            }
          },
          "metadata": {},
          "execution_count": 54
        }
      ]
    },
    {
      "cell_type": "code",
      "metadata": {
        "id": "npSRo-HajUye",
        "colab": {
          "base_uri": "https://localhost:8080/"
        },
        "outputId": "c8959fc5-cbeb-4064-dc0e-16d539607cbf"
      },
      "source": [
        "ind = np.where(newsgroups_test.target != predict_targets)\n",
        "ind = ind[0]\n",
        "random_ind = np.random.randint(0,ind.shape[0],(2))\n",
        "for i in random_ind:\n",
        "    img=newsgroups_test.data[ind[i]]\n",
        "    print ('Правильный класс: ',\n",
        "           newsgroups_test.target_names[newsgroups_test.target[ind[i]]])\n",
        "    print ('Предсказанный класс: ',\n",
        "           newsgroups_test.target_names[predict_targets[ind[i]]])\n",
        "    print(img)\n"
      ],
      "execution_count": null,
      "outputs": [
        {
          "output_type": "stream",
          "name": "stdout",
          "text": [
            "Правильный класс:  comp.graphics\n",
            "Предсказанный класс:  comp.windows.x\n",
            "From: xyzzy@hal.gnu.ai.mit.edu (Daniel Drucker)\n",
            "Subject: Re: Where did the hacker ethic go?\n",
            "Organization: dis\n",
            "Lines: 18\n",
            "NNTP-Posting-Host: hal.ai.mit.edu\n",
            "\n",
            "In article <gradyC6D7Ep.AwE@netcom.com> grady@netcom.com (1016/2EF221) writes:\n",
            ">Where did the hacker ethic go?\n",
            ">\n",
            ">We hackers of the 70's and 80' are now comfortably employed\n",
            ">and supporting families.  The next generation takes\n",
            ">the radical lead now.  Don't look for radicalism among us\n",
            ">old ones; we're gone...\n",
            "\n",
            "And guess who's here in your place.\n",
            "\n",
            "Please finger xyzzy@gnu.ai.mit.edu for information, or if you are\n",
            "a mail/news only site, mail xyzzy@gnu.ai.mit.edu with the subject line\n",
            "\"SEND FINGER\".\n",
            "\n",
            "\n",
            "-- \n",
            "Daniel Drucker   N2SXX          | xyzzy@gnu.ai.mit.edu\n",
            "Forever, forever, my Coda.      | und2dzd@vaxc.hofstra.edu\n",
            "\n",
            "Правильный класс:  sci.electronics\n",
            "Предсказанный класс:  comp.windows.x\n",
            "From: pguello@uwsuper.edu (Paul Guello)\n",
            "Subject: Re: solvent for duck tape adhesive\n",
            "Organization: University of Wisconsin - Superior, Wisconsin\n",
            "Lines: 3\n",
            "NNTP-Posting-Host: 137.81.10.140\n",
            "\n",
            "If you want to try a non-toxic solvent, there's one made of citrus that \n",
            "works very well and doesn't take your skin off in the process.  One brand \n",
            "name I've used is Citra-Solve, but there are others too.\n",
            "\n"
          ]
        }
      ]
    },
    {
      "cell_type": "markdown",
      "source": [
        "### 5. Выполните анализ текстового датасета с использованием выбранного классификатора. Датасет скачайте по ссылке https://www.kaggle.com/datasets/thorinhood/russian-twitter-sentiment/"
      ],
      "metadata": {
        "id": "aP9_Zt-lJj18"
      }
    },
    {
      "cell_type": "markdown",
      "source": [
        "1. Загрузка и подготовка данных"
      ],
      "metadata": {
        "id": "9cxawyKHUCW6"
      }
    },
    {
      "cell_type": "code",
      "metadata": {
        "id": "buFTE7SdjUs3"
      },
      "source": [
        "from google.colab import files\n",
        "uploaded = files.upload()"
      ],
      "execution_count": null,
      "outputs": []
    },
    {
      "cell_type": "code",
      "metadata": {
        "id": "DQ_DUOFsZyUu"
      },
      "source": [
        "import pandas as pd\n",
        "\n",
        "dfN = pd.read_csv('negative.csv',  header=None, sep=';', quotechar='\"')\n",
        "dfP = pd.read_csv('positive.csv',  header=None, sep=';', quotechar='\"')"
      ],
      "execution_count": null,
      "outputs": []
    },
    {
      "cell_type": "markdown",
      "source": [
        "Объедените данные в один датафрейм df с помощью concat"
      ],
      "metadata": {
        "id": "ZlcOYGzqRJ77"
      }
    },
    {
      "cell_type": "code",
      "source": [
        "df =\n",
        "df = df.sample(frac=1).reset_index(drop=True) #перемешали данные\n"
      ],
      "metadata": {
        "id": "ZTkNxuvMRG0n"
      },
      "execution_count": null,
      "outputs": []
    },
    {
      "cell_type": "markdown",
      "source": [
        "Посмотрите на получившиеся данные"
      ],
      "metadata": {
        "id": "WfpfCXWYRfvS"
      }
    },
    {
      "cell_type": "code",
      "source": [],
      "metadata": {
        "id": "U-nYh3DVRc1i"
      },
      "execution_count": null,
      "outputs": []
    },
    {
      "cell_type": "markdown",
      "source": [
        "Добавьте имена (id\",\"date\",\"name\",\"message\",\"sentiment\", оставшиеся \"undefined\") колонкам с помощь df.columns"
      ],
      "metadata": {
        "id": "IbA9UysARkjS"
      }
    },
    {
      "cell_type": "code",
      "source": [],
      "metadata": {
        "id": "IcyJjfQ2RjVi"
      },
      "execution_count": null,
      "outputs": []
    },
    {
      "cell_type": "markdown",
      "source": [
        "Посмотрите на получившиеся данные"
      ],
      "metadata": {
        "id": "EyHb63mbVN2i"
      }
    },
    {
      "cell_type": "code",
      "source": [],
      "metadata": {
        "id": "EHw_r5HdVQvI"
      },
      "execution_count": null,
      "outputs": []
    },
    {
      "cell_type": "markdown",
      "source": [
        "Выполните предварительную обработку текстов: удалите стоп-слова и выполните стемминг"
      ],
      "metadata": {
        "id": "4KrECdMQVROg"
      }
    },
    {
      "cell_type": "code",
      "source": [],
      "metadata": {
        "id": "Yz_6y9X9VcdA"
      },
      "execution_count": null,
      "outputs": []
    },
    {
      "cell_type": "markdown",
      "source": [
        "Разделите данные на обучающую и тестовую выборки (70% на обучение, 30% на тестирование) для трёх вариантов: исходные тексты, предварительно обработанные тексты и тексты после стемминга. С помощью функции prepare_data"
      ],
      "metadata": {
        "id": "iX5c9Ly8WXip"
      }
    },
    {
      "cell_type": "code",
      "source": [
        "from sklearn.feature_extraction.text import CountVectorizer\n",
        "\n",
        "def prepare_data(df, text_column, target_column, test_size=0.3, random_state=42):\n",
        "  vectorizer = CountVectorizer()\n",
        "  X = vectorizer.fit_transform(df[text_column])\n",
        "  y = df[target_column]\n",
        "  X_train, X_test, y_train, y_test = train_test_split(X, y, test_size=0.3, random_state=42)\n",
        "  return X_train, X_test, y_train, y_test"
      ],
      "metadata": {
        "id": "i3r3fBuSWeN5"
      },
      "execution_count": null,
      "outputs": []
    },
    {
      "cell_type": "code",
      "source": [
        "X_train, X_test, y_train, y_test =\n",
        "X_train_preprocess, X_test_preprocess, y_train_preprocess, y_test_preprocess =\n",
        "X_train_stemming, X_test_stemming, y_train_stemming, y_test_stemming ="
      ],
      "metadata": {
        "id": "URRz7KJUWf06"
      },
      "execution_count": null,
      "outputs": []
    },
    {
      "cell_type": "markdown",
      "source": [
        "Обучите модели классификации (RandomForestClassifier и GradientBoostingClassifier) для каждого из трёх вариантов данных\n"
      ],
      "metadata": {
        "id": "VjJZoS1-WvGE"
      }
    },
    {
      "cell_type": "code",
      "source": [
        "from sklearn.model_selection import train_test_split, GridSearchCV\n",
        "from sklearn.ensemble import RandomForestClassifier, GradientBoostingClassifier\n",
        "from sklearn.feature_extraction.text import TfidfVectorizer\n",
        "from sklearn.metrics import accuracy_score"
      ],
      "metadata": {
        "id": "fDGEIcgtXEfJ"
      },
      "execution_count": null,
      "outputs": []
    },
    {
      "cell_type": "code",
      "source": [],
      "metadata": {
        "id": "U0jGLNevXEzR"
      },
      "execution_count": null,
      "outputs": []
    },
    {
      "cell_type": "markdown",
      "source": [
        "Повторите обучение с использованием TfidfVectorizer для каждого варианта данных"
      ],
      "metadata": {
        "id": "krhtdqkFXT6B"
      }
    },
    {
      "cell_type": "code",
      "source": [
        "from sklearn.feature_extraction.text import TfidfVectorizer\n",
        "\n",
        "def prepare_data_TF(df, text_column, target_column, test_size=0.3, random_state=42):\n",
        "  vectorizer = TfidfVectorizer()\n",
        "  X = vectorizer.fit_transform(df[text_column])\n",
        "  y = df[target_column]\n",
        "  X_train, X_test, y_train, y_test = train_test_split(X, y, test_size=0.3, random_state=42)\n",
        "  return X_train, X_test, y_train, y_test"
      ],
      "metadata": {
        "id": "h59BXn6yXXUS"
      },
      "execution_count": null,
      "outputs": []
    },
    {
      "cell_type": "code",
      "source": [
        "X_train, X_test, y_train, y_test =\n",
        "X_train_preprocess, X_test_preprocess, y_train_preprocess, y_test_preprocess =\n",
        "X_train_stemming, X_test_stemming, y_train_stemming, y_test_stemming ="
      ],
      "metadata": {
        "id": "mjdzJQiyXcLh"
      },
      "execution_count": null,
      "outputs": []
    },
    {
      "cell_type": "code",
      "source": [],
      "metadata": {
        "id": "7no-z49gXgmB"
      },
      "execution_count": null,
      "outputs": []
    }
  ]
}